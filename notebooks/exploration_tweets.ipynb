{
 "cells": [
  {
   "cell_type": "code",
   "execution_count": null,
   "id": "f2ed7db2-4bf6-47f8-b7a8-b2c1c3fe1c0d",
   "metadata": {},
   "outputs": [],
   "source": []
  },
  {
   "cell_type": "code",
   "execution_count": 74,
   "id": "a59a4114-54fc-4ddc-910c-933827e6ecc6",
   "metadata": {},
   "outputs": [],
   "source": [
    "import pandas as pd\n",
    "from matplotlib import pyplot as plt\n",
    "import numpy as np\n",
    "from sklearn.preprocessing import quantile_transform, RobustScaler, Normalizer"
   ]
  },
  {
   "cell_type": "code",
   "execution_count": 2,
   "id": "47336eea-8f9e-42e9-8f89-e95c6347fe97",
   "metadata": {},
   "outputs": [],
   "source": [
    "path_raw_data = \"./../ressources/raw_data_comple.csv\"\n",
    "path_to_preprocessed_data = \"./../ressources/data_preprocessed.csv\""
   ]
  },
  {
   "cell_type": "code",
   "execution_count": 3,
   "id": "13be232d-5391-4c3b-b214-3d9b7dc03c78",
   "metadata": {},
   "outputs": [],
   "source": [
    "df = pd.read_csv(path_raw_data, index_col=False)"
   ]
  },
  {
   "cell_type": "markdown",
   "id": "b32a1123-f167-4c67-8312-28a74bdb634d",
   "metadata": {},
   "source": [
    "__Remove duplicates tweets (not excluding Rt)__"
   ]
  },
  {
   "cell_type": "code",
   "execution_count": 4,
   "id": "68ae3fb9-5a6e-4cc9-aaa0-9cc5168bdeda",
   "metadata": {},
   "outputs": [
    {
     "data": {
      "text/plain": [
       "NON À L’ENDOCTRINEMENT DES ENFANTS. BRAVO MONSIEUR ZEMMOUR POUR CETTE INTERVENTION. JE SUIS OBLIGÉ DE SALUER CE DIS… https://t.co/GcDeDSS9mH        1\n",
       "RT @LeoLaStrophe: Pourquoi aucun  #média n'en parle ?\\n\\n#jeremycohen tabassé par des racailles avant de se faire écraser par un tramway.\\n\\n #…    1\n",
       "Big Bang son 5, le duela a quien le duela 😋😋😋 #BIGBANG_StillLife                                                                                    1\n",
       "RT @SapphireKyu_36: AAAAHHHHHHHHH\\n\\n#BIGBANG_StillLife since:2022-04-03_12:38:21_UTC https://t.co/bcOXHOWlhy                                       1\n",
       "RT @Tokyopa2: COMMENT VOULEZ VOUS QUE JE M'EN REMETTE 😭😭\\n\\n #BIGBANG_StillLife https://t.co/7mDLtBgqg5                                             1\n",
       "                                                                                                                                                   ..\n",
       "Dieu merci Mbappe est français, par contre Pedri est espagnol et ça me tracasse                                                                     1\n",
       "RT @le10sport: Mercato - PSG : Leonardo a fait deux énormes promesses à Mbappé ! https://t.co/zNEKkoSL1t https://t.co/nmFl89EhLA                    1\n",
       "RT @AmmarAtal: Mbappe est a seulement 40 buts d’être le meilleur buteur de l’histoire du club, franchement ça serait dommage de partir sans…        1\n",
       "RT @mbappegoals_: Kylian Mbappé vs Lorient\\n\\n https://t.co/OO4njNCKNp                                                                              1\n",
       "Montage de qualité ta peur #RedditPlace #pixelwar https://t.co/zAbu4ybe04                                                                           1\n",
       "Name: texte, Length: 1954, dtype: int64"
      ]
     },
     "execution_count": 4,
     "metadata": {},
     "output_type": "execute_result"
    }
   ],
   "source": [
    "df.drop_duplicates(subset=[\"texte\"], inplace=True)\n",
    "df.texte.value_counts()"
   ]
  },
  {
   "cell_type": "code",
   "execution_count": 5,
   "id": "3e121ec0-ecf4-409f-a1e9-79bfd50b1a83",
   "metadata": {},
   "outputs": [],
   "source": [
    "df.to_csv(path_raw_data, index=False)"
   ]
  },
  {
   "cell_type": "markdown",
   "id": "bcbc3c95-3475-42f9-9657-6deba3f4c1cb",
   "metadata": {},
   "source": [
    "__Info__"
   ]
  },
  {
   "cell_type": "code",
   "execution_count": 6,
   "id": "7c869441-bc89-473a-9901-7819c0461431",
   "metadata": {},
   "outputs": [
    {
     "name": "stdout",
     "output_type": "stream",
     "text": [
      "<class 'pandas.core.frame.DataFrame'>\n",
      "Int64Index: 1954 entries, 0 to 2356\n",
      "Data columns (total 11 columns):\n",
      " #   Column           Non-Null Count  Dtype \n",
      "---  ------           --------------  ----- \n",
      " 0   user_id          1954 non-null   int64 \n",
      " 1   texte            1954 non-null   object\n",
      " 2   created_at       1954 non-null   object\n",
      " 3   followers_count  1954 non-null   int64 \n",
      " 4   is_verified      1954 non-null   int64 \n",
      " 5   location         1147 non-null   object\n",
      " 6   lang             1954 non-null   object\n",
      " 7   fav              1954 non-null   int64 \n",
      " 8   retweet          1954 non-null   int64 \n",
      " 9   trend            1954 non-null   object\n",
      " 10  trend_volume     1954 non-null   int64 \n",
      "dtypes: int64(6), object(5)\n",
      "memory usage: 183.2+ KB\n"
     ]
    }
   ],
   "source": [
    "df.info()"
   ]
  },
  {
   "cell_type": "code",
   "execution_count": 7,
   "id": "7f456058-d1ef-4960-816f-6e766cf7641a",
   "metadata": {},
   "outputs": [
    {
     "data": {
      "text/html": [
       "<div>\n",
       "<style scoped>\n",
       "    .dataframe tbody tr th:only-of-type {\n",
       "        vertical-align: middle;\n",
       "    }\n",
       "\n",
       "    .dataframe tbody tr th {\n",
       "        vertical-align: top;\n",
       "    }\n",
       "\n",
       "    .dataframe thead th {\n",
       "        text-align: right;\n",
       "    }\n",
       "</style>\n",
       "<table border=\"1\" class=\"dataframe\">\n",
       "  <thead>\n",
       "    <tr style=\"text-align: right;\">\n",
       "      <th></th>\n",
       "      <th>user_id</th>\n",
       "      <th>texte</th>\n",
       "      <th>created_at</th>\n",
       "      <th>followers_count</th>\n",
       "      <th>is_verified</th>\n",
       "      <th>location</th>\n",
       "      <th>lang</th>\n",
       "      <th>fav</th>\n",
       "      <th>retweet</th>\n",
       "      <th>trend</th>\n",
       "      <th>trend_volume</th>\n",
       "    </tr>\n",
       "  </thead>\n",
       "  <tbody>\n",
       "    <tr>\n",
       "      <th>0</th>\n",
       "      <td>179530581</td>\n",
       "      <td>NON À L’ENDOCTRINEMENT DES ENFANTS. BRAVO MONS...</td>\n",
       "      <td>2022-04-02 02:37:39</td>\n",
       "      <td>5689800</td>\n",
       "      <td>1</td>\n",
       "      <td>NaN</td>\n",
       "      <td>fr</td>\n",
       "      <td>26457</td>\n",
       "      <td>7409</td>\n",
       "      <td>Booba</td>\n",
       "      <td>54842</td>\n",
       "    </tr>\n",
       "    <tr>\n",
       "      <th>1</th>\n",
       "      <td>33887820</td>\n",
       "      <td>\"Bravo Monsieur Zemmour\" : le rappeur Booba pr...</td>\n",
       "      <td>2022-04-02 15:16:07</td>\n",
       "      <td>166955</td>\n",
       "      <td>1</td>\n",
       "      <td>Languedoc-Roussillon, France</td>\n",
       "      <td>fr</td>\n",
       "      <td>4249</td>\n",
       "      <td>1611</td>\n",
       "      <td>Booba</td>\n",
       "      <td>54842</td>\n",
       "    </tr>\n",
       "    <tr>\n",
       "      <th>2</th>\n",
       "      <td>27412519</td>\n",
       "      <td>Le rappeur Booba soutient publiquement Eric Ze...</td>\n",
       "      <td>2022-04-02 17:34:11</td>\n",
       "      <td>438536</td>\n",
       "      <td>1</td>\n",
       "      <td>Nouvelle-Aquitaine</td>\n",
       "      <td>fr</td>\n",
       "      <td>3560</td>\n",
       "      <td>1090</td>\n",
       "      <td>Booba</td>\n",
       "      <td>54842</td>\n",
       "    </tr>\n",
       "    <tr>\n",
       "      <th>3</th>\n",
       "      <td>1205851115948036096</td>\n",
       "      <td>RT @Lomav140: Booba c le seul rappeur grand pu...</td>\n",
       "      <td>2022-04-03 13:50:26</td>\n",
       "      <td>19676</td>\n",
       "      <td>0</td>\n",
       "      <td>Dans son cœur</td>\n",
       "      <td>fr</td>\n",
       "      <td>0</td>\n",
       "      <td>1985</td>\n",
       "      <td>Booba</td>\n",
       "      <td>54842</td>\n",
       "    </tr>\n",
       "    <tr>\n",
       "      <th>4</th>\n",
       "      <td>1438998366910832644</td>\n",
       "      <td>RT @Valeurs: 🔴 LGBT : Le rappeur Booba salue l...</td>\n",
       "      <td>2022-04-03 13:50:24</td>\n",
       "      <td>44</td>\n",
       "      <td>0</td>\n",
       "      <td>Bretagne Z.</td>\n",
       "      <td>fr</td>\n",
       "      <td>0</td>\n",
       "      <td>1305</td>\n",
       "      <td>Booba</td>\n",
       "      <td>54842</td>\n",
       "    </tr>\n",
       "  </tbody>\n",
       "</table>\n",
       "</div>"
      ],
      "text/plain": [
       "               user_id                                              texte  \\\n",
       "0            179530581  NON À L’ENDOCTRINEMENT DES ENFANTS. BRAVO MONS...   \n",
       "1             33887820  \"Bravo Monsieur Zemmour\" : le rappeur Booba pr...   \n",
       "2             27412519  Le rappeur Booba soutient publiquement Eric Ze...   \n",
       "3  1205851115948036096  RT @Lomav140: Booba c le seul rappeur grand pu...   \n",
       "4  1438998366910832644  RT @Valeurs: 🔴 LGBT : Le rappeur Booba salue l...   \n",
       "\n",
       "            created_at  followers_count  is_verified  \\\n",
       "0  2022-04-02 02:37:39          5689800            1   \n",
       "1  2022-04-02 15:16:07           166955            1   \n",
       "2  2022-04-02 17:34:11           438536            1   \n",
       "3  2022-04-03 13:50:26            19676            0   \n",
       "4  2022-04-03 13:50:24               44            0   \n",
       "\n",
       "                       location lang    fav  retweet  trend  trend_volume  \n",
       "0                           NaN   fr  26457     7409  Booba         54842  \n",
       "1  Languedoc-Roussillon, France   fr   4249     1611  Booba         54842  \n",
       "2            Nouvelle-Aquitaine   fr   3560     1090  Booba         54842  \n",
       "3                Dans son cœur    fr      0     1985  Booba         54842  \n",
       "4                  Bretagne Z.    fr      0     1305  Booba         54842  "
      ]
     },
     "execution_count": 7,
     "metadata": {},
     "output_type": "execute_result"
    }
   ],
   "source": [
    "df.head()"
   ]
  },
  {
   "cell_type": "code",
   "execution_count": 8,
   "id": "ad5013a2-cb52-488f-b0eb-fb5b7ddd390e",
   "metadata": {},
   "outputs": [
    {
     "data": {
      "text/plain": [
       "(1954, 11)"
      ]
     },
     "execution_count": 8,
     "metadata": {},
     "output_type": "execute_result"
    }
   ],
   "source": [
    "df.shape"
   ]
  },
  {
   "cell_type": "code",
   "execution_count": 9,
   "id": "f89ccceb-9d36-440a-aa87-96c9eca4bdab",
   "metadata": {},
   "outputs": [
    {
     "data": {
      "text/plain": [
       "NON À L’ENDOCTRINEMENT DES ENFANTS. BRAVO MONSIEUR ZEMMOUR POUR CETTE INTERVENTION. JE SUIS OBLIGÉ DE SALUER CE DIS… https://t.co/GcDeDSS9mH        1\n",
       "RT @LeoLaStrophe: Pourquoi aucun  #média n'en parle ?\\n\\n#jeremycohen tabassé par des racailles avant de se faire écraser par un tramway.\\n\\n #…    1\n",
       "Big Bang son 5, le duela a quien le duela 😋😋😋 #BIGBANG_StillLife                                                                                    1\n",
       "RT @SapphireKyu_36: AAAAHHHHHHHHH\\n\\n#BIGBANG_StillLife since:2022-04-03_12:38:21_UTC https://t.co/bcOXHOWlhy                                       1\n",
       "RT @Tokyopa2: COMMENT VOULEZ VOUS QUE JE M'EN REMETTE 😭😭\\n\\n #BIGBANG_StillLife https://t.co/7mDLtBgqg5                                             1\n",
       "                                                                                                                                                   ..\n",
       "Dieu merci Mbappe est français, par contre Pedri est espagnol et ça me tracasse                                                                     1\n",
       "RT @le10sport: Mercato - PSG : Leonardo a fait deux énormes promesses à Mbappé ! https://t.co/zNEKkoSL1t https://t.co/nmFl89EhLA                    1\n",
       "RT @AmmarAtal: Mbappe est a seulement 40 buts d’être le meilleur buteur de l’histoire du club, franchement ça serait dommage de partir sans…        1\n",
       "RT @mbappegoals_: Kylian Mbappé vs Lorient\\n\\n https://t.co/OO4njNCKNp                                                                              1\n",
       "Montage de qualité ta peur #RedditPlace #pixelwar https://t.co/zAbu4ybe04                                                                           1\n",
       "Name: texte, Length: 1954, dtype: int64"
      ]
     },
     "execution_count": 9,
     "metadata": {},
     "output_type": "execute_result"
    }
   ],
   "source": [
    "df.texte.value_counts()"
   ]
  },
  {
   "cell_type": "markdown",
   "id": "f3a4b1f9-aad7-4101-9c57-2083dea780fe",
   "metadata": {},
   "source": [
    "__Missing values__"
   ]
  },
  {
   "cell_type": "code",
   "execution_count": 10,
   "id": "8500d038-1139-4f25-acf7-3bbdd5b076b1",
   "metadata": {},
   "outputs": [
    {
     "data": {
      "text/plain": [
       "user_id              0\n",
       "texte                0\n",
       "created_at           0\n",
       "followers_count      0\n",
       "is_verified          0\n",
       "location           807\n",
       "lang                 0\n",
       "fav                  0\n",
       "retweet              0\n",
       "trend                0\n",
       "trend_volume         0\n",
       "dtype: int64"
      ]
     },
     "execution_count": 10,
     "metadata": {},
     "output_type": "execute_result"
    }
   ],
   "source": [
    "df.isna().sum()"
   ]
  },
  {
   "cell_type": "markdown",
   "id": "0ac15df1-66bc-4257-9ede-815259caff25",
   "metadata": {},
   "source": [
    "__Shape dataframe__"
   ]
  },
  {
   "cell_type": "code",
   "execution_count": 11,
   "id": "fbe8229c-3e28-4bab-abba-118631c76a19",
   "metadata": {
    "tags": []
   },
   "outputs": [
    {
     "data": {
      "text/plain": [
       "(1954, 11)"
      ]
     },
     "execution_count": 11,
     "metadata": {},
     "output_type": "execute_result"
    }
   ],
   "source": [
    "df.shape"
   ]
  },
  {
   "cell_type": "markdown",
   "id": "37109887-b02b-4902-8174-37e0dc85f5ba",
   "metadata": {},
   "source": [
    "__Preprocessing__"
   ]
  },
  {
   "cell_type": "code",
   "execution_count": 12,
   "id": "3b751068-a3f5-41a2-9ac0-94c4f665e5d9",
   "metadata": {},
   "outputs": [],
   "source": [
    "df_preprocessed = pd.read_csv(path_to_preprocessed_data)"
   ]
  },
  {
   "cell_type": "code",
   "execution_count": 13,
   "id": "9a49404f-c238-4d13-8eb5-1c944a54b331",
   "metadata": {},
   "outputs": [
    {
     "data": {
      "text/html": [
       "<div>\n",
       "<style scoped>\n",
       "    .dataframe tbody tr th:only-of-type {\n",
       "        vertical-align: middle;\n",
       "    }\n",
       "\n",
       "    .dataframe tbody tr th {\n",
       "        vertical-align: top;\n",
       "    }\n",
       "\n",
       "    .dataframe thead th {\n",
       "        text-align: right;\n",
       "    }\n",
       "</style>\n",
       "<table border=\"1\" class=\"dataframe\">\n",
       "  <thead>\n",
       "    <tr style=\"text-align: right;\">\n",
       "      <th></th>\n",
       "      <th>user_id</th>\n",
       "      <th>texte</th>\n",
       "      <th>created_at</th>\n",
       "      <th>followers_count</th>\n",
       "      <th>is_verified</th>\n",
       "      <th>location</th>\n",
       "      <th>lang</th>\n",
       "      <th>fav</th>\n",
       "      <th>retweet</th>\n",
       "      <th>trend</th>\n",
       "      <th>trend_volume</th>\n",
       "      <th>tweet_hour</th>\n",
       "      <th>tweet_day_of_the_week</th>\n",
       "      <th>tweet_quarter</th>\n",
       "    </tr>\n",
       "  </thead>\n",
       "  <tbody>\n",
       "    <tr>\n",
       "      <th>0</th>\n",
       "      <td>179530581</td>\n",
       "      <td>NON À L’ENDOCTRINEMENT DES ENFANTS. BRAVO MONS...</td>\n",
       "      <td>2022-04-02 02:37:39</td>\n",
       "      <td>5689800</td>\n",
       "      <td>1</td>\n",
       "      <td>NaN</td>\n",
       "      <td>fr</td>\n",
       "      <td>26457</td>\n",
       "      <td>7409</td>\n",
       "      <td>Booba</td>\n",
       "      <td>54842</td>\n",
       "      <td>2</td>\n",
       "      <td>5</td>\n",
       "      <td>2</td>\n",
       "    </tr>\n",
       "    <tr>\n",
       "      <th>1</th>\n",
       "      <td>33887820</td>\n",
       "      <td>\"Bravo Monsieur Zemmour\" : le rappeur Booba pr...</td>\n",
       "      <td>2022-04-02 15:16:07</td>\n",
       "      <td>166955</td>\n",
       "      <td>1</td>\n",
       "      <td>Languedoc-Roussillon, France</td>\n",
       "      <td>fr</td>\n",
       "      <td>4249</td>\n",
       "      <td>1611</td>\n",
       "      <td>Booba</td>\n",
       "      <td>54842</td>\n",
       "      <td>15</td>\n",
       "      <td>5</td>\n",
       "      <td>2</td>\n",
       "    </tr>\n",
       "    <tr>\n",
       "      <th>2</th>\n",
       "      <td>27412519</td>\n",
       "      <td>Le rappeur Booba soutient publiquement Eric Ze...</td>\n",
       "      <td>2022-04-02 17:34:11</td>\n",
       "      <td>438536</td>\n",
       "      <td>1</td>\n",
       "      <td>Nouvelle-Aquitaine</td>\n",
       "      <td>fr</td>\n",
       "      <td>3560</td>\n",
       "      <td>1090</td>\n",
       "      <td>Booba</td>\n",
       "      <td>54842</td>\n",
       "      <td>17</td>\n",
       "      <td>5</td>\n",
       "      <td>2</td>\n",
       "    </tr>\n",
       "    <tr>\n",
       "      <th>3</th>\n",
       "      <td>1205851115948036096</td>\n",
       "      <td>RT @Lomav140: Booba c le seul rappeur grand pu...</td>\n",
       "      <td>2022-04-03 13:50:26</td>\n",
       "      <td>19676</td>\n",
       "      <td>0</td>\n",
       "      <td>Dans son cœur</td>\n",
       "      <td>fr</td>\n",
       "      <td>0</td>\n",
       "      <td>1985</td>\n",
       "      <td>Booba</td>\n",
       "      <td>54842</td>\n",
       "      <td>13</td>\n",
       "      <td>6</td>\n",
       "      <td>2</td>\n",
       "    </tr>\n",
       "    <tr>\n",
       "      <th>4</th>\n",
       "      <td>1438998366910832644</td>\n",
       "      <td>RT @Valeurs: 🔴 LGBT : Le rappeur Booba salue l...</td>\n",
       "      <td>2022-04-03 13:50:24</td>\n",
       "      <td>44</td>\n",
       "      <td>0</td>\n",
       "      <td>Bretagne Z.</td>\n",
       "      <td>fr</td>\n",
       "      <td>0</td>\n",
       "      <td>1305</td>\n",
       "      <td>Booba</td>\n",
       "      <td>54842</td>\n",
       "      <td>13</td>\n",
       "      <td>6</td>\n",
       "      <td>2</td>\n",
       "    </tr>\n",
       "    <tr>\n",
       "      <th>...</th>\n",
       "      <td>...</td>\n",
       "      <td>...</td>\n",
       "      <td>...</td>\n",
       "      <td>...</td>\n",
       "      <td>...</td>\n",
       "      <td>...</td>\n",
       "      <td>...</td>\n",
       "      <td>...</td>\n",
       "      <td>...</td>\n",
       "      <td>...</td>\n",
       "      <td>...</td>\n",
       "      <td>...</td>\n",
       "      <td>...</td>\n",
       "      <td>...</td>\n",
       "    </tr>\n",
       "    <tr>\n",
       "      <th>1949</th>\n",
       "      <td>1153096255</td>\n",
       "      <td>RT @momo_brbi: @WeshDiego Eux en ce moment, qu...</td>\n",
       "      <td>2022-04-05 13:50:00</td>\n",
       "      <td>146</td>\n",
       "      <td>0</td>\n",
       "      <td>NaN</td>\n",
       "      <td>fr</td>\n",
       "      <td>0</td>\n",
       "      <td>2</td>\n",
       "      <td>#RedditPlace</td>\n",
       "      <td>104981</td>\n",
       "      <td>13</td>\n",
       "      <td>1</td>\n",
       "      <td>2</td>\n",
       "    </tr>\n",
       "    <tr>\n",
       "      <th>1950</th>\n",
       "      <td>1093593121659731973</td>\n",
       "      <td>dehors @Rubiu5 #RedditPlace https://t.co/EeH87...</td>\n",
       "      <td>2022-04-05 13:49:50</td>\n",
       "      <td>154</td>\n",
       "      <td>0</td>\n",
       "      <td>l’Ile de la baleine</td>\n",
       "      <td>fr</td>\n",
       "      <td>0</td>\n",
       "      <td>0</td>\n",
       "      <td>#RedditPlace</td>\n",
       "      <td>104981</td>\n",
       "      <td>13</td>\n",
       "      <td>1</td>\n",
       "      <td>2</td>\n",
       "    </tr>\n",
       "    <tr>\n",
       "      <th>1951</th>\n",
       "      <td>2178559490</td>\n",
       "      <td>RT @EstragonSan: Je pleure de rire #RedditPlac...</td>\n",
       "      <td>2022-04-05 13:49:32</td>\n",
       "      <td>1862</td>\n",
       "      <td>0</td>\n",
       "      <td>Mars</td>\n",
       "      <td>fr</td>\n",
       "      <td>0</td>\n",
       "      <td>38</td>\n",
       "      <td>#RedditPlace</td>\n",
       "      <td>104981</td>\n",
       "      <td>13</td>\n",
       "      <td>1</td>\n",
       "      <td>2</td>\n",
       "    </tr>\n",
       "    <tr>\n",
       "      <th>1952</th>\n",
       "      <td>940353641541701632</td>\n",
       "      <td>RT @sandruisseau: Merci à tout.te.s mes abonné...</td>\n",
       "      <td>2022-04-05 13:49:16</td>\n",
       "      <td>155</td>\n",
       "      <td>0</td>\n",
       "      <td>Bassin D'arcachon</td>\n",
       "      <td>fr</td>\n",
       "      <td>0</td>\n",
       "      <td>46</td>\n",
       "      <td>#RedditPlace</td>\n",
       "      <td>104981</td>\n",
       "      <td>13</td>\n",
       "      <td>1</td>\n",
       "      <td>2</td>\n",
       "    </tr>\n",
       "    <tr>\n",
       "      <th>1953</th>\n",
       "      <td>857948472900804608</td>\n",
       "      <td>Montage de qualité ta peur #RedditPlace #pixel...</td>\n",
       "      <td>2022-04-05 13:49:04</td>\n",
       "      <td>324</td>\n",
       "      <td>0</td>\n",
       "      <td>NaN</td>\n",
       "      <td>fr</td>\n",
       "      <td>0</td>\n",
       "      <td>0</td>\n",
       "      <td>#RedditPlace</td>\n",
       "      <td>104981</td>\n",
       "      <td>13</td>\n",
       "      <td>1</td>\n",
       "      <td>2</td>\n",
       "    </tr>\n",
       "  </tbody>\n",
       "</table>\n",
       "<p>1954 rows × 14 columns</p>\n",
       "</div>"
      ],
      "text/plain": [
       "                  user_id                                              texte  \\\n",
       "0               179530581  NON À L’ENDOCTRINEMENT DES ENFANTS. BRAVO MONS...   \n",
       "1                33887820  \"Bravo Monsieur Zemmour\" : le rappeur Booba pr...   \n",
       "2                27412519  Le rappeur Booba soutient publiquement Eric Ze...   \n",
       "3     1205851115948036096  RT @Lomav140: Booba c le seul rappeur grand pu...   \n",
       "4     1438998366910832644  RT @Valeurs: 🔴 LGBT : Le rappeur Booba salue l...   \n",
       "...                   ...                                                ...   \n",
       "1949           1153096255  RT @momo_brbi: @WeshDiego Eux en ce moment, qu...   \n",
       "1950  1093593121659731973  dehors @Rubiu5 #RedditPlace https://t.co/EeH87...   \n",
       "1951           2178559490  RT @EstragonSan: Je pleure de rire #RedditPlac...   \n",
       "1952   940353641541701632  RT @sandruisseau: Merci à tout.te.s mes abonné...   \n",
       "1953   857948472900804608  Montage de qualité ta peur #RedditPlace #pixel...   \n",
       "\n",
       "               created_at  followers_count  is_verified  \\\n",
       "0     2022-04-02 02:37:39          5689800            1   \n",
       "1     2022-04-02 15:16:07           166955            1   \n",
       "2     2022-04-02 17:34:11           438536            1   \n",
       "3     2022-04-03 13:50:26            19676            0   \n",
       "4     2022-04-03 13:50:24               44            0   \n",
       "...                   ...              ...          ...   \n",
       "1949  2022-04-05 13:50:00              146            0   \n",
       "1950  2022-04-05 13:49:50              154            0   \n",
       "1951  2022-04-05 13:49:32             1862            0   \n",
       "1952  2022-04-05 13:49:16              155            0   \n",
       "1953  2022-04-05 13:49:04              324            0   \n",
       "\n",
       "                          location lang    fav  retweet         trend  \\\n",
       "0                              NaN   fr  26457     7409         Booba   \n",
       "1     Languedoc-Roussillon, France   fr   4249     1611         Booba   \n",
       "2               Nouvelle-Aquitaine   fr   3560     1090         Booba   \n",
       "3                   Dans son cœur    fr      0     1985         Booba   \n",
       "4                     Bretagne Z.    fr      0     1305         Booba   \n",
       "...                            ...  ...    ...      ...           ...   \n",
       "1949                           NaN   fr      0        2  #RedditPlace   \n",
       "1950           l’Ile de la baleine   fr      0        0  #RedditPlace   \n",
       "1951                          Mars   fr      0       38  #RedditPlace   \n",
       "1952            Bassin D'arcachon    fr      0       46  #RedditPlace   \n",
       "1953                           NaN   fr      0        0  #RedditPlace   \n",
       "\n",
       "      trend_volume  tweet_hour  tweet_day_of_the_week  tweet_quarter  \n",
       "0            54842           2                      5              2  \n",
       "1            54842          15                      5              2  \n",
       "2            54842          17                      5              2  \n",
       "3            54842          13                      6              2  \n",
       "4            54842          13                      6              2  \n",
       "...            ...         ...                    ...            ...  \n",
       "1949        104981          13                      1              2  \n",
       "1950        104981          13                      1              2  \n",
       "1951        104981          13                      1              2  \n",
       "1952        104981          13                      1              2  \n",
       "1953        104981          13                      1              2  \n",
       "\n",
       "[1954 rows x 14 columns]"
      ]
     },
     "execution_count": 13,
     "metadata": {},
     "output_type": "execute_result"
    }
   ],
   "source": [
    "df_preprocessed"
   ]
  },
  {
   "cell_type": "markdown",
   "id": "d777d427-93c9-4de3-a812-3e1242609b48",
   "metadata": {},
   "source": [
    "__Correlations__"
   ]
  },
  {
   "cell_type": "code",
   "execution_count": 14,
   "id": "c8c0f899-0691-4b74-aff2-25f8288ae3e7",
   "metadata": {},
   "outputs": [
    {
     "data": {
      "text/plain": [
       "<AxesSubplot:>"
      ]
     },
     "execution_count": 14,
     "metadata": {},
     "output_type": "execute_result"
    },
    {
     "data": {
      "image/png": "[encoded data removed]",
      "text/plain": [
       "<Figure size 432x288 with 2 Axes>"
      ]
     },
     "metadata": {
      "needs_background": "light"
     },
     "output_type": "display_data"
    }
   ],
   "source": [
    "import seaborn as sns\n",
    "\n",
    "corr_ = df_preprocessed.corr()\n",
    "sns.heatmap(corr_,\n",
    "           cmap=\"gist_ncar_r\")"
   ]
  },
  {
   "cell_type": "markdown",
   "id": "d8b96efb-19d8-4b9c-af7e-e26771845100",
   "metadata": {},
   "source": [
    "* __Target correlations__"
   ]
  },
  {
   "cell_type": "markdown",
   "id": "313fb734-7eb8-45fa-bf68-503e1ba5bf0d",
   "metadata": {},
   "source": [
    "   Correlations with follower_counts and is_verified feature\n",
    "        "
   ]
  },
  {
   "cell_type": "markdown",
   "id": "a2b668f5-24e6-4199-9b94-135d4d145e25",
   "metadata": {},
   "source": [
    "* __Features correlations__"
   ]
  },
  {
   "cell_type": "code",
   "execution_count": null,
   "id": "73ea9d40-d24c-4788-be38-8d7f7a3c704d",
   "metadata": {},
   "outputs": [],
   "source": []
  },
  {
   "cell_type": "markdown",
   "id": "1d87e382-bb87-42ce-855f-65f9d9e414a2",
   "metadata": {},
   "source": [
    "__Target__"
   ]
  },
  {
   "cell_type": "code",
   "execution_count": 16,
   "id": "5d6aa376-e71e-4e3f-a52d-7c4039395483",
   "metadata": {},
   "outputs": [],
   "source": [
    "fav = df_preprocessed.fav.values\n",
    "retweet = df_preprocessed.retweet.values"
   ]
  },
  {
   "cell_type": "code",
   "execution_count": 31,
   "id": "5897321a-d9db-4ce6-b833-002337043746",
   "metadata": {},
   "outputs": [
    {
     "data": {
      "text/plain": [
       "<AxesSubplot:>"
      ]
     },
     "execution_count": 31,
     "metadata": {},
     "output_type": "execute_result"
    },
    {
     "data": {
      "image/png": "[encoded data removed]",
      "text/plain": [
       "<Figure size 432x288 with 1 Axes>"
      ]
     },
     "metadata": {
      "needs_background": "light"
     },
     "output_type": "display_data"
    }
   ],
   "source": [
    "df_preprocessed.fav.plot(kind='box')"
   ]
  },
  {
   "cell_type": "markdown",
   "id": "4eba8380-9cca-4876-873b-fb7c03ed3609",
   "metadata": {},
   "source": [
    "* There is outliers in the distribution"
   ]
  },
  {
   "cell_type": "markdown",
   "id": "78267d99-9af0-47d3-909f-f1c1a9292d8b",
   "metadata": {},
   "source": [
    "__Log Transformation__"
   ]
  },
  {
   "cell_type": "code",
   "execution_count": 55,
   "id": "0c2c0c97-e4db-4f7c-be9b-8a43fd756f69",
   "metadata": {},
   "outputs": [],
   "source": [
    "df_preprocessed[\"log_fav\"] = df_preprocessed.fav.apply(lambda x: np.log(x) if x > 0 else 0)"
   ]
  },
  {
   "cell_type": "code",
   "execution_count": 56,
   "id": "322803be-bedb-4b5b-a8aa-6dd9a8f2a23b",
   "metadata": {},
   "outputs": [
    {
     "data": {
      "text/plain": [
       "<AxesSubplot:ylabel='Frequency'>"
      ]
     },
     "execution_count": 56,
     "metadata": {},
     "output_type": "execute_result"
    },
    {
     "data": {
      "image/png": "[encoded data removed]",
      "text/plain": [
       "<Figure size 432x288 with 1 Axes>"
      ]
     },
     "metadata": {
      "needs_background": "light"
     },
     "output_type": "display_data"
    }
   ],
   "source": [
    "df_preprocessed.log_fav.plot(kind=\"hist\")"
   ]
  },
  {
   "cell_type": "code",
   "execution_count": 57,
   "id": "40f2e701-b1ee-4f4b-a27c-b75428b1c0f7",
   "metadata": {},
   "outputs": [
    {
     "data": {
      "text/plain": [
       "<AxesSubplot:>"
      ]
     },
     "execution_count": 57,
     "metadata": {},
     "output_type": "execute_result"
    },
    {
     "data": {
      "image/png": "[encoded data removed]",
      "text/plain": [
       "<Figure size 432x288 with 1 Axes>"
      ]
     },
     "metadata": {
      "needs_background": "light"
     },
     "output_type": "display_data"
    }
   ],
   "source": [
    "df_preprocessed.log_fav.plot(kind=\"box\")"
   ]
  },
  {
   "cell_type": "markdown",
   "id": "7736152f-d74c-40ce-baa6-307b0b72cbc4",
   "metadata": {},
   "source": [
    "__quantile transformations__"
   ]
  },
  {
   "cell_type": "code",
   "execution_count": 68,
   "id": "68a70de0-d106-4e62-80b8-1d52169be70e",
   "metadata": {},
   "outputs": [],
   "source": [
    "fav_quantile_trans = quantile_transform(\n",
    "    df_preprocessed.fav.to_frame(), n_quantiles=1000, output_distribution=\"normal\", copy=True\n",
    ").squeeze()"
   ]
  },
  {
   "cell_type": "code",
   "execution_count": 69,
   "id": "e97eabb0-09e3-4d9e-90e1-7df0dc122e20",
   "metadata": {},
   "outputs": [
    {
     "data": {
      "text/plain": [
       "(array([1.696e+03, 0.000e+00, 0.000e+00, 0.000e+00, 0.000e+00, 0.000e+00,\n",
       "        2.210e+02, 3.500e+01, 1.000e+00, 1.000e+00]),\n",
       " array([-5.19933758e+00, -4.15947007e+00, -3.11960255e+00, -2.07973503e+00,\n",
       "        -1.03986752e+00,  4.89217555e-11,  1.03986752e+00,  2.07973503e+00,\n",
       "         3.11960255e+00,  4.15947007e+00,  5.19933758e+00]),\n",
       " <BarContainer object of 10 artists>)"
      ]
     },
     "execution_count": 69,
     "metadata": {},
     "output_type": "execute_result"
    },
    {
     "data": {
      "image/png": "[encoded data removed]",
      "text/plain": [
       "<Figure size 432x288 with 1 Axes>"
      ]
     },
     "metadata": {
      "needs_background": "light"
     },
     "output_type": "display_data"
    }
   ],
   "source": [
    "plt.hist(fav_quantile_trans)"
   ]
  },
  {
   "cell_type": "markdown",
   "id": "3606df42-e235-40dc-85fe-b8aeeb85d8a1",
   "metadata": {},
   "source": [
    "__Normalizer__"
   ]
  },
  {
   "cell_type": "code",
   "execution_count": 83,
   "id": "1bdf9d6e-7eab-40ac-94a8-82485d86281b",
   "metadata": {},
   "outputs": [],
   "source": [
    "scale_fav  = Normalizer(norm=\"l1\").fit_transform(df_preprocessed.fav.to_frame())"
   ]
  },
  {
   "cell_type": "code",
   "execution_count": 87,
   "id": "225aef75-f56a-4326-b8c8-6afcee180d2f",
   "metadata": {},
   "outputs": [
    {
     "data": {
      "text/plain": [
       "(array([1696.,    0.,    0.,    0.,  258.]),\n",
       " array([0. , 0.2, 0.4, 0.6, 0.8, 1. ]),\n",
       " <BarContainer object of 5 artists>)"
      ]
     },
     "execution_count": 87,
     "metadata": {},
     "output_type": "execute_result"
    },
    {
     "data": {
      "image/png": "[encoded data removed]",
      "text/plain": [
       "<Figure size 432x288 with 1 Axes>"
      ]
     },
     "metadata": {
      "needs_background": "light"
     },
     "output_type": "display_data"
    }
   ],
   "source": [
    "plt.hist(scale_fav, bins=5)"
   ]
  },
  {
   "cell_type": "markdown",
   "id": "2cfbc325-bfad-478f-889f-5230a9ae8268",
   "metadata": {},
   "source": [
    "* Exactly what we want, 2 big buckets \n",
    "* The first's one group tweet with low fav and the second's one group with big values"
   ]
  },
  {
   "cell_type": "code",
   "execution_count": null,
   "id": "2f89c1bb-8b8c-435b-a8f0-a8d27bca22cf",
   "metadata": {},
   "outputs": [],
   "source": []
  },
  {
   "cell_type": "code",
   "execution_count": null,
   "id": "bf75c938-2b08-423a-9386-b7b48528d954",
   "metadata": {},
   "outputs": [],
   "source": []
  },
  {
   "cell_type": "markdown",
   "id": "b1c9bae2-52c4-4b86-8ab4-852f6570046a",
   "metadata": {},
   "source": []
  },
  {
   "cell_type": "code",
   "execution_count": null,
   "id": "22907ea1-eb38-4435-9772-35dc221efd74",
   "metadata": {},
   "outputs": [],
   "source": []
  }
 ],
 "metadata": {
  "kernelspec": {
   "display_name": "Python 3 (ipykernel)",
   "language": "python",
   "name": "python3"
  },
  "language_info": {
   "codemirror_mode": {
    "name": "ipython",
    "version": 3
   },
   "file_extension": ".py",
   "mimetype": "text/x-python",
   "name": "python",
   "nbconvert_exporter": "python",
   "pygments_lexer": "ipython3",
   "version": "3.8.8"
  }
 },
 "nbformat": 4,
 "nbformat_minor": 5
}
