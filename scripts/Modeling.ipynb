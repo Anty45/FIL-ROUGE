{
  "nbformat": 4,
  "nbformat_minor": 0,
  "metadata": {
    "kernelspec": {
      "display_name": "Python 3",
      "language": "python",
      "name": "python3"
    },
    "language_info": {
      "codemirror_mode": {
        "name": "ipython",
        "version": 3
      },
      "file_extension": ".py",
      "mimetype": "text/x-python",
      "name": "python",
      "nbconvert_exporter": "python",
      "pygments_lexer": "ipython3",
      "version": "3.6.6"
    },
    "colab": {
      "name": "Copie de SparkFilRouge.ipynb",
      "provenance": [],
      "collapsed_sections": [
        "KjEDrvAIhJ9y",
        "Im1qDyXKhJ_e",
        "nyzb7NIGhKFo",
        "fPjXu2wShKGR",
        "eb5Uy97ZhKHC",
        "mBjYhLA2hKH5",
        "rEGRSg3dhKJO",
        "Refe2l8BhKJe",
        "OKB3sO2xhKJm",
        "l57JyebfhKJ_",
        "OiERW4ERhKKb",
        "XbSfyB7zhKKj",
        "3qE4oq7khKKt",
        "vfhOwJXhhKK2",
        "2do9xivwhKLN",
        "ovY75zPIhKLS"
      ],
      "toc_visible": true
    }
  },
  "cells": [
    {
      "cell_type": "code",
      "metadata": {
        "id": "gdiYyfJZhpdr"
      },
      "source": [
        "\n",
        "!tar -xf /content/spark-3.0.0-preview2-bin-hadoop3.2.tgz.1\n",
        "!pip install -q findspark"
      ],
      "execution_count": null,
      "outputs": []
    },
    {
      "cell_type": "code",
      "metadata": {
        "id": "fumMuvPWhpmY"
      },
      "source": [
        "import os\n",
        "os.environ[\"JAVA_HOME\"] = \"/usr/lib/jvm/java-8-openjdk-amd64\"\n",
        "os.environ[\"SPARK_HOME\"] = \"/content/spark-3.0.0-preview2-bin-hadoop3.2\""
      ],
      "execution_count": null,
      "outputs": []
    },
    {
      "cell_type": "code",
      "metadata": {
        "id": "Pf4Q10FnhJ6z"
      },
      "source": [
        "import findspark\n",
        "findspark.init()\n"
      ],
      "execution_count": null,
      "outputs": []
    },
    {
      "cell_type": "code",
      "metadata": {
        "id": "l7mCdpERhJ6_"
      },
      "source": [
        "from pyspark import SparkContext, SparkConf\n",
        "from pyspark import ml , mllib\n",
        "\n",
        "conf = SparkConf()\n",
        "sc = SparkContext(conf=conf)\n",
        "\n",
        "\n",
        "\n"
      ],
      "execution_count": null,
      "outputs": []
    },
    {
      "cell_type": "markdown",
      "metadata": {
        "id": "KwEZbLOwhJ7I"
      },
      "source": [
        "#####  Chargement du dataset train et test dans des dataFrames Spark avec SparkQL"
      ]
    },
    {
      "cell_type": "code",
      "metadata": {
        "id": "LP79cS4MhJ7L"
      },
      "source": [
        "from pyspark import SQLContext\n",
        "\n",
        "sqlContext = SQLContext(sc)\n",
        "df = sqlContext.read.csv(\"./AthletesTwitterData.xls\", header=True, mode=\"DROPMALFORMED\")\n",
        "test = sqlContext.read.csv(\"./Deflategate-DFE.xls\", header=True, mode=\"DROPMALFORMED\")\n"
      ],
      "execution_count": null,
      "outputs": []
    },
    {
      "cell_type": "code",
      "metadata": {
        "id": "ls43ir-AhJ7T",
        "colab": {
          "base_uri": "https://localhost:8080/",
          "height": 224
        },
        "outputId": "64c53af4-5b08-4eaf-dfda-a37601de42d1"
      },
      "source": [
        "test.show(5)"
      ],
      "execution_count": null,
      "outputs": [
        {
          "output_type": "stream",
          "text": [
            "+---------+-------+-----------+------------------+-----------------+-----------------+----------------------------+--------------+-------------------------+----------------------+-------------------+---------------+-------------+--------------------+-----------+----------+-----------+--------------+--------------------+\n",
            "| _unit_id|_golden|_unit_state|_trusted_judgments|_last_judgment_at|deflate_sentiment|deflate_sentiment:confidence|deflategate_yn|deflategate_yn:confidence|deflate_sentiment_gold|deflategate_yn_gold|           name|retweet_count|                text|tweet_coord|tweet_date|   tweet_id|tweet_location|       user_timezone|\n",
            "+---------+-------+-----------+------------------+-----------------+-----------------+----------------------------+--------------+-------------------------+----------------------+-------------------+---------------+-------------+--------------------+-----------+----------+-----------+--------------+--------------------+\n",
            "|663596213|  FALSE|  finalized|                 3|    1/31/15 17:19|slightly positive|                           1|           yes|                        1|                  null|               null| EcoWarrior1980|            5|\"RT @DeSmogBlog: ...|       null|   1/29/15|5.60932E+17|  Portland, OR|                null|\n",
            "|663596214|  FALSE|  finalized|                 3|      2/1/15 7:27|         negative|                           1|           yes|                        1|                  null|               null|   iTalkShitToo|            6|RT @CBSPittsburgh...|       null|   1/29/15|5.60932E+17|          null|                null|\n",
            "|663596215|  FALSE|  finalized|                 3|    1/31/15 22:18|         negative|                      0.6667|           yes|                        1|                  null|               null|     JSmoove_22|            3|RT @OkeraJ: #Defl...|       null|   1/29/15|5.60932E+17|          null|                null|\n",
            "|663596216|  FALSE|  finalized|                 3|    1/31/15 20:07|slightly positive|                           1|           yes|                        1|                  null|               null| Football4Misha|            2|RT @DigitalTrove:...|       null|   1/29/15|5.60932E+17|          null|Central Time (US ...|\n",
            "|663596218|  FALSE|  finalized|                 3|    1/31/15 13:19|         negative|                      0.6924|           yes|                   0.6924|                  null|               null|joseantonio2293|           45|RT @WWE: #WWE's @...|       null|   1/29/15|5.60932E+17|          null|Eastern Time (US ...|\n",
            "+---------+-------+-----------+------------------+-----------------+-----------------+----------------------------+--------------+-------------------------+----------------------+-------------------+---------------+-------------+--------------------+-----------+----------+-----------+--------------+--------------------+\n",
            "only showing top 5 rows\n",
            "\n"
          ],
          "name": "stdout"
        }
      ]
    },
    {
      "cell_type": "markdown",
      "metadata": {
        "id": "uicETZbvhJ7c"
      },
      "source": [
        "##### Présentation des schémas des tables formées "
      ]
    },
    {
      "cell_type": "code",
      "metadata": {
        "id": "QqjQ_VKfhJ7d",
        "colab": {
          "base_uri": "https://localhost:8080/",
          "height": 153
        },
        "outputId": "e50088cc-2df7-4be3-a26b-786db7a65c4f"
      },
      "source": [
        "df.printSchema()"
      ],
      "execution_count": null,
      "outputs": [
        {
          "output_type": "stream",
          "text": [
            "root\n",
            " |-- Player Name: string (nullable = true)\n",
            " |-- Twitter Username: string (nullable = true)\n",
            " |-- Timestamp GMT: string (nullable = true)\n",
            " |-- Twitter Text Raw: string (nullable = true)\n",
            " |-- Twitter Text after Preprocessing: string (nullable = true)\n",
            " |-- Vader Polarity Score: string (nullable = true)\n",
            "\n"
          ],
          "name": "stdout"
        }
      ]
    },
    {
      "cell_type": "code",
      "metadata": {
        "id": "5hWxHrkghJ7t",
        "colab": {
          "base_uri": "https://localhost:8080/",
          "height": 289
        },
        "outputId": "4548a5bd-076e-464c-a8ee-c0055c943f71"
      },
      "source": [
        "df.show(10)"
      ],
      "execution_count": null,
      "outputs": [
        {
          "output_type": "stream",
          "text": [
            "+-----------+----------------+-------------+--------------------+--------------------------------+--------------------+\n",
            "|Player Name|Twitter Username|Timestamp GMT|    Twitter Text Raw|Twitter Text after Preprocessing|Vader Polarity Score|\n",
            "+-----------+----------------+-------------+--------------------+--------------------------------+--------------------+\n",
            "|Karlovic I.|   <ivokarlovic>| 8/29/09 3:40| checking this th...|             checking this th...|                   0|\n",
            "|Karlovic I.|   <ivokarlovic>|5/13/10 23:57| i'm still up. it...|             i'm still up. it...|                   0|\n",
            "|Karlovic I.|   <ivokarlovic>|5/14/10 21:53| Just got to Zagr...|             just got to zagr...|              0.3832|\n",
            "|Karlovic I.|   <ivokarlovic>|6/30/10 19:02| Practiced tennis...|             practiced tennis...|              0.4404|\n",
            "|Karlovic I.|   <ivokarlovic>|6/30/10 19:48| @StephenDog I do...|             AT_USER i don't ...|              0.3565|\n",
            "|Karlovic I.|   <ivokarlovic>|6/30/10 19:59| @GlerkKent not u...|             AT_USER not upse...|              0.6688|\n",
            "|Karlovic I.|   <ivokarlovic>|6/30/10 22:26| @SlimSheldyJxUKx...|                  AT_USER thanks|              0.4404|\n",
            "|Karlovic I.|   <ivokarlovic>|  7/1/10 0:06| Moja droga je te...|             moja droga je tenis|                   0|\n",
            "|Karlovic I.|   <ivokarlovic>| 7/1/10 11:12| Waiting to get s...|             waiting to get s...|              -0.743|\n",
            "|Karlovic I.|   <ivokarlovic>| 7/1/10 12:21| @StephenDog foot...|             AT_USER foot is ...|              0.7783|\n",
            "+-----------+----------------+-------------+--------------------+--------------------------------+--------------------+\n",
            "only showing top 10 rows\n",
            "\n"
          ],
          "name": "stdout"
        }
      ]
    },
    {
      "cell_type": "markdown",
      "metadata": {
        "id": "6P_AyTGihJ75"
      },
      "source": [
        "##### Analyse statistique "
      ]
    },
    {
      "cell_type": "code",
      "metadata": {
        "id": "0p06ELXshJ76",
        "colab": {
          "base_uri": "https://localhost:8080/",
          "height": 187
        },
        "outputId": "472496f6-e414-435d-e3be-ad8c0b71a73c"
      },
      "source": [
        "df.describe(\"Twitter Text Raw\").show()"
      ],
      "execution_count": null,
      "outputs": [
        {
          "output_type": "stream",
          "text": [
            "+-------+--------------------+\n",
            "|summary|    Twitter Text Raw|\n",
            "+-------+--------------------+\n",
            "|  count|              124341|\n",
            "|   mean|         4038263.125|\n",
            "| stddev| 1.142157738761004E7|\n",
            "|    min|  http://Coltonha...|\n",
            "|    max|🤷🏼‍♂️ pic.twitt...|\n",
            "+-------+--------------------+\n",
            "\n"
          ],
          "name": "stdout"
        }
      ]
    },
    {
      "cell_type": "markdown",
      "metadata": {
        "id": "JywiESJIhJ7_"
      },
      "source": [
        "Ici, il n y a que le nombre de tweet (__count__) qui represent une donnée importante. \n",
        "\n",
        "* Il y a 124341 tweets"
      ]
    },
    {
      "cell_type": "markdown",
      "metadata": {
        "id": "bYiUEmkyhJ8A"
      },
      "source": [
        "##### Determination du nombre de classe  "
      ]
    },
    {
      "cell_type": "code",
      "metadata": {
        "id": "GtC788fIhJ8B",
        "colab": {
          "base_uri": "https://localhost:8080/",
          "height": 187
        },
        "outputId": "0a918f49-f460-4cef-f132-b835a9473114"
      },
      "source": [
        "df.describe(\"Vader Polarity Score\").show()"
      ],
      "execution_count": null,
      "outputs": [
        {
          "output_type": "stream",
          "text": [
            "+-------+--------------------+\n",
            "|summary|Vader Polarity Score|\n",
            "+-------+--------------------+\n",
            "|  count|              123667|\n",
            "|   mean|  0.2733446030431471|\n",
            "| stddev| 0.38316770467305017|\n",
            "|    min| 'Cause lately yo...|\n",
            "|    max|unbalanced on equ...|\n",
            "+-------+--------------------+\n",
            "\n"
          ],
          "name": "stdout"
        }
      ]
    },
    {
      "cell_type": "code",
      "metadata": {
        "id": "Rehp0nVThJ8H",
        "colab": {
          "base_uri": "https://localhost:8080/",
          "height": 799
        },
        "outputId": "9d4fd492-7143-4189-8e44-a0582fcadc30"
      },
      "source": [
        "df.groupBy(\"Vader Polarity Score\").count().show(40)"
      ],
      "execution_count": null,
      "outputs": [
        {
          "output_type": "stream",
          "text": [
            "+--------------------+-----+\n",
            "|Vader Polarity Score|count|\n",
            "+--------------------+-----+\n",
            "|             -0.5719|  143|\n",
            "|             -0.7364|    1|\n",
            "|              0.5542|   62|\n",
            "|             -0.8073|    2|\n",
            "|             -0.5439|    2|\n",
            "|              0.7379|    2|\n",
            "|               0.899|    7|\n",
            "|             -0.3724|   17|\n",
            "|              0.1513|   24|\n",
            "|\" every sport is ...|    1|\n",
            "|              0.7181|    1|\n",
            "|             -0.1336|    3|\n",
            "|              0.3879|    1|\n",
            "|               0.962|    3|\n",
            "|              0.1882|    1|\n",
            "|              0.7859|    3|\n",
            "|              0.9031|    3|\n",
            "|             -0.7121|    1|\n",
            "|              -0.763|    1|\n",
            "|               0.871|    2|\n",
            "|              0.5378|    2|\n",
            "|              0.7682|    1|\n",
            "|              0.7427|    1|\n",
            "|              0.6064|    1|\n",
            "|              0.8679|    1|\n",
            "|\" girl, i know th...|    1|\n",
            "|              0.7694|    1|\n",
            "|              0.1201|    1|\n",
            "|             -0.6997|    2|\n",
            "|             -0.6187|    3|\n",
            "|              0.8765|   14|\n",
            "|              0.7318|    2|\n",
            "|              0.9531|   26|\n",
            "|              0.9618|    8|\n",
            "|              0.9682|    4|\n",
            "|              0.7822|    1|\n",
            "|             -0.8591|    7|\n",
            "|              0.8579|    2|\n",
            "|              0.9124|    2|\n",
            "|               0.762|    4|\n",
            "+--------------------+-----+\n",
            "only showing top 40 rows\n",
            "\n"
          ],
          "name": "stdout"
        }
      ]
    },
    {
      "cell_type": "markdown",
      "metadata": {
        "id": "UxlsDQAjhJ8Q"
      },
      "source": [
        "On a pas que des chiffres dans les scores Vader"
      ]
    },
    {
      "cell_type": "code",
      "metadata": {
        "id": "84S92XuChJ8V"
      },
      "source": [
        ""
      ],
      "execution_count": null,
      "outputs": []
    },
    {
      "cell_type": "markdown",
      "metadata": {
        "id": "cfV8uCevhJ8i"
      },
      "source": [
        "#### Feature Engineering"
      ]
    },
    {
      "cell_type": "code",
      "metadata": {
        "id": "xFEvVQlIhJ8l"
      },
      "source": [
        "from pyspark.ml.feature import Bucketizer\n",
        "import numpy as np\n",
        "from pyspark.sql.types import DoubleType\n",
        "\n",
        "df2 = df.withColumn(\"Vader Polarity Score\", df[\"Vader Polarity Score\"].cast(DoubleType()))\n"
      ],
      "execution_count": null,
      "outputs": []
    },
    {
      "cell_type": "code",
      "metadata": {
        "id": "8tpE-awphJ8r",
        "colab": {
          "base_uri": "https://localhost:8080/",
          "height": 153
        },
        "outputId": "83839e0f-11ab-4ea5-b3f7-3a25484bf83f"
      },
      "source": [
        "df2.printSchema()"
      ],
      "execution_count": null,
      "outputs": [
        {
          "output_type": "stream",
          "text": [
            "root\n",
            " |-- Player Name: string (nullable = true)\n",
            " |-- Twitter Username: string (nullable = true)\n",
            " |-- Timestamp GMT: string (nullable = true)\n",
            " |-- Twitter Text Raw: string (nullable = true)\n",
            " |-- Twitter Text after Preprocessing: string (nullable = true)\n",
            " |-- Vader Polarity Score: double (nullable = true)\n",
            "\n"
          ],
          "name": "stdout"
        }
      ]
    },
    {
      "cell_type": "code",
      "metadata": {
        "id": "J5tGIBlphJ80",
        "colab": {
          "base_uri": "https://localhost:8080/",
          "height": 187
        },
        "outputId": "05e44dc1-0569-42fd-9155-b672bb88df08"
      },
      "source": [
        "df2.describe(\"Vader Polarity Score\").show()"
      ],
      "execution_count": null,
      "outputs": [
        {
          "output_type": "stream",
          "text": [
            "+-------+--------------------+\n",
            "|summary|Vader Polarity Score|\n",
            "+-------+--------------------+\n",
            "|  count|              123162|\n",
            "|   mean|  0.2733446030431471|\n",
            "| stddev| 0.38316770467305017|\n",
            "|    min|             -0.9787|\n",
            "|    max|              0.9901|\n",
            "+-------+--------------------+\n",
            "\n"
          ],
          "name": "stdout"
        }
      ]
    },
    {
      "cell_type": "markdown",
      "metadata": {
        "id": "JcSDotoQhJ87"
      },
      "source": [
        "#### Map Vader Score : \n",
        "\n",
        "* Sentiment score > 0.3 -> positive\n",
        "* Sentiment score < -0.3 -> negative\n",
        "* else neutral \n"
      ]
    },
    {
      "cell_type": "code",
      "metadata": {
        "id": "U4tIguxQhJ8-"
      },
      "source": [
        "from pyspark.sql.functions import when,col\n",
        "\n",
        "\n",
        "df2 = df2.withColumn(\"Vader Polarity Score\",when( col(\"Vader Polarity Score\") < -0.3, -1).when(col(\"Vader Polarity Score\") > 0.3, 1).otherwise(0))\n"
      ],
      "execution_count": null,
      "outputs": []
    },
    {
      "cell_type": "code",
      "metadata": {
        "id": "smdVT_0PhJ9I",
        "colab": {
          "base_uri": "https://localhost:8080/",
          "height": 204
        },
        "outputId": "ab367416-1bb4-4921-82f2-09fc951d4718"
      },
      "source": [
        "df2.show(5)"
      ],
      "execution_count": null,
      "outputs": [
        {
          "output_type": "stream",
          "text": [
            "+-----------+----------------+-------------+--------------------+--------------------------------+--------------------+\n",
            "|Player Name|Twitter Username|Timestamp GMT|    Twitter Text Raw|Twitter Text after Preprocessing|Vader Polarity Score|\n",
            "+-----------+----------------+-------------+--------------------+--------------------------------+--------------------+\n",
            "|Karlovic I.|   <ivokarlovic>| 8/29/09 3:40| checking this th...|             checking this th...|                   0|\n",
            "|Karlovic I.|   <ivokarlovic>|5/13/10 23:57| i'm still up. it...|             i'm still up. it...|                   0|\n",
            "|Karlovic I.|   <ivokarlovic>|5/14/10 21:53| Just got to Zagr...|             just got to zagr...|                   1|\n",
            "|Karlovic I.|   <ivokarlovic>|6/30/10 19:02| Practiced tennis...|             practiced tennis...|                   1|\n",
            "|Karlovic I.|   <ivokarlovic>|6/30/10 19:48| @StephenDog I do...|             AT_USER i don't ...|                   1|\n",
            "+-----------+----------------+-------------+--------------------+--------------------------------+--------------------+\n",
            "only showing top 5 rows\n",
            "\n"
          ],
          "name": "stdout"
        }
      ]
    },
    {
      "cell_type": "code",
      "metadata": {
        "id": "SyC9MvrthJ9R"
      },
      "source": [
        ""
      ],
      "execution_count": null,
      "outputs": []
    },
    {
      "cell_type": "markdown",
      "metadata": {
        "id": "ny_YphrRhJ9a"
      },
      "source": [
        "### Bag of words Vectorization"
      ]
    },
    {
      "cell_type": "code",
      "metadata": {
        "id": "19Ssr5ehhJ9b"
      },
      "source": [
        "from pyspark.ml.feature import RegexTokenizer, StopWordsRemover, CountVectorizer\n",
        "from pyspark.ml.classification import LogisticRegression\n",
        "\n",
        "# regular expression tokenizer\n",
        "regexTokenizer = RegexTokenizer(inputCol=\"Twitter Text Raw\", outputCol=\"words\", pattern=\"\\\\W\")\n",
        "\n",
        "# stop words\n",
        "add_stopwords = [\"twitpic\",\"ly\",\"bit\",\"twitter\",\"a\",\"abord\",\"absolument\",\"afin\",\"ah\",\"ai\",\"aie\",\"aient\",\"aies\",\"ailleurs\",\"ainsi\",\"ait\",\"allaient\",\"allo\",\"allons\",\"allô\",\"alors\",\"anterieur\",\"anterieure\",\"anterieures\",\"apres\",\"après\",\"as\",\"assez\",\"attendu\",\"au\",\"aucun\",\"aucune\",\"aucuns\",\"aujourd\",\"aujourd'hui\",\"aupres\",\"auquel\",\"aura\",\"aurai\",\"auraient\",\"aurais\",\"aurait\",\"auras\",\"aurez\",\"auriez\",\"aurions\",\"aurons\",\"auront\",\"aussi\",\"autant\",\"autre\",\"autrefois\",\"autrement\",\"autres\",\"autrui\",\"aux\",\"auxquelles\",\"auxquels\",\"avaient\",\"avais\",\"avait\",\"avant\",\"avec\",\"avez\",\"aviez\",\"avions\",\"avoir\",\"avons\",\"ayant\",\"ayez\",\"ayons\",\"b\",\"bah\",\"bas\",\"basee\",\"bat\",\"beau\",\"beaucoup\",\"bien\",\"bigre\",\"bon\",\"boum\",\"bravo\",\"brrr\",\"c\",\"car\",\"ce\",\"ceci\",\"cela\",\"celle\",\"celle-ci\",\"celle-là\",\"celles\",\"celles-ci\",\"celles-là\",\"celui\",\"celui-ci\",\"celui-là\",\"celà\",\"cent\",\"cependant\",\"certain\",\"certaine\",\"certaines\",\"certains\",\"certes\",\"ces\",\"cet\",\"cette\",\"ceux\",\"ceux-ci\",\"ceux-là\",\"chacun\",\"chacune\",\"chaque\",\"cher\",\"chers\",\"chez\",\"chiche\",\"chut\",\"chère\",\"chères\",\"ci\",\"cinq\",\"cinquantaine\",\"cinquante\",\"cinquantième\",\"cinquième\",\"clac\",\"clic\",\"combien\",\"comme\",\"comment\",\"comparable\",\"comparables\",\"compris\",\"concernant\",\"contre\",\"couic\",\"crac\",\"d\",\"da\",\"dans\",\"de\",\"debout\",\"dedans\",\"dehors\",\"deja\",\"delà\",\"depuis\",\"dernier\",\"derniere\",\"derriere\",\"derrière\",\"des\",\"desormais\",\"desquelles\",\"desquels\",\"dessous\",\"dessus\",\"deux\",\"deuxième\",\"deuxièmement\",\"devant\",\"devers\",\"devra\",\"devrait\",\"different\",\"differentes\",\"differents\",\"différent\",\"différente\",\"différentes\",\"différents\",\"dire\",\"directe\",\"directement\",\"dit\",\"dite\",\"dits\",\"divers\",\"diverse\",\"diverses\",\"dix\",\"dix-huit\",\"dix-neuf\",\"dix-sept\",\"dixième\",\"doit\",\"doivent\",\"donc\",\"dont\",\"dos\",\"douze\",\"douzième\",\"dring\",\"droite\",\"du\",\"duquel\",\"durant\",\"dès\",\"début\",\"désormais\",\"e\",\"effet\",\"egale\",\"egalement\",\"egales\",\"eh\",\"elle\",\"elle-même\",\"elles\",\"elles-mêmes\",\"en\",\"encore\",\"enfin\",\"entre\",\"envers\",\"environ\",\"es\",\"essai\",\"est\",\"et\",\"etant\",\"etc\",\"etre\",\"eu\",\"eue\",\"eues\",\"euh\",\"eurent\",\"eus\",\"eusse\",\"eussent\",\"eusses\",\"eussiez\",\"eussions\",\"eut\",\"eux\",\"eux-mêmes\",\"exactement\",\"excepté\",\"extenso\",\"exterieur\",\"eûmes\",\"eût\",\"eûtes\",\"f\",\"fais\",\"faisaient\",\"faisant\",\"fait\",\"faites\",\"façon\",\"feront\",\"fi\",\"flac\",\"floc\",\"fois\",\"font\",\"force\",\"furent\",\"fus\",\"fusse\",\"fussent\",\"fusses\",\"fussiez\",\"fussions\",\"fut\",\"fûmes\",\"fût\",\"fûtes\",\"g\",\"gens\",\"h\",\"ha\",\"haut\",\"hein\",\"hem\",\"hep\",\"hi\",\"ho\",\"holà\",\"hop\",\"hormis\",\"hors\",\"hou\",\"houp\",\"hue\",\"hui\",\"huit\",\"huitième\",\"hum\",\"hurrah\",\"hé\",\"hélas\",\"i\",\"ici\",\"il\",\"ils\",\"importe\",\"j\",\"je\",\"jusqu\",\"jusque\",\"juste\",\"k\",\"l\",\"la\",\"laisser\",\"laquelle\",\"las\",\"le\",\"lequel\",\"les\",\"lesquelles\",\"lesquels\",\"leur\",\"leurs\",\"longtemps\",\"lors\",\"lorsque\",\"lui\",\"lui-meme\",\"lui-même\",\"là\",\"lès\",\"m\",\"ma\",\"maint\",\"maintenant\",\"mais\",\"malgre\",\"malgré\",\"maximale\",\"me\",\"meme\",\"memes\",\"merci\",\"mes\",\"mien\",\"mienne\",\"miennes\",\"miens\",\"mille\",\"mince\",\"mine\",\"minimale\",\"moi\",\"moi-meme\",\"moi-même\",\"moindres\",\"moins\",\"mon\",\"mot\",\"moyennant\",\"multiple\",\"multiples\",\"même\",\"mêmes\",\"n\",\"na\",\"naturel\",\"naturelle\",\"naturelles\",\"ne\",\"neanmoins\",\"necessaire\",\"necessairement\",\"neuf\",\"neuvième\",\"ni\",\"nombreuses\",\"nombreux\",\"nommés\",\"non\",\"nos\",\"notamment\",\"notre\",\"nous\",\"nous-mêmes\",\"nouveau\",\"nouveaux\",\"nul\",\"néanmoins\",\"nôtre\",\"nôtres\",\"o\",\"oh\",\"ohé\",\"ollé\",\"olé\",\"on\",\"ont\",\"onze\",\"onzième\",\"ore\",\"ou\",\"ouf\",\"ouias\",\"oust\",\"ouste\",\"outre\",\"ouvert\",\"ouverte\",\"ouverts\",\"o|\",\"où\",\"p\",\"paf\",\"pan\",\"par\",\"parce\",\"parfois\",\"parle\",\"parlent\",\"parler\",\"parmi\",\"parole\",\"parseme\",\"partant\",\"particulier\",\"particulière\",\"particulièrement\",\"pas\",\"passé\",\"pendant\",\"pense\",\"permet\",\"personne\",\"personnes\",\"peu\",\"peut\",\"peuvent\",\"peux\",\"pff\",\"pfft\",\"pfut\",\"pif\",\"pire\",\"pièce\",\"plein\",\"plouf\",\"plupart\",\"plus\",\"plusieurs\",\"plutôt\",\"possessif\",\"possessifs\",\"possible\",\"possibles\",\"pouah\",\"pour\",\"pourquoi\",\"pourrais\",\"pourrait\",\"pouvait\",\"prealable\",\"precisement\",\"premier\",\"première\",\"premièrement\",\"pres\",\"probable\",\"probante\",\"procedant\",\"proche\",\"près\",\"psitt\",\"pu\",\"puis\",\"puisque\",\"pur\",\"pure\",\"q\",\"qu\",\"quand\",\"quant\",\"quant-à-soi\",\"quanta\",\"quarante\",\"quatorze\",\"quatre\",\"quatre-vingt\",\"quatrième\",\"quatrièmement\",\"que\",\"quel\",\"quelconque\",\"quelle\",\"quelles\",\"quelqu'un\",\"quelque\",\"quelques\",\"quels\",\"qui\",\"quiconque\",\"quinze\",\"quoi\",\"quoique\",\"r\",\"rare\",\"rarement\",\"rares\",\"relative\",\"relativement\",\"remarquable\",\"rend\",\"rendre\",\"restant\",\"reste\",\"restent\",\"restrictif\",\"retour\",\"revoici\",\"revoilà\",\"rien\",\"s\",\"sa\",\"sacrebleu\",\"sait\",\"sans\",\"sapristi\",\"sauf\",\"se\",\"sein\",\"seize\",\"selon\",\"semblable\",\"semblaient\",\"semble\",\"semblent\",\"sent\",\"sept\",\"septième\",\"sera\",\"serai\",\"seraient\",\"serais\",\"serait\",\"seras\",\"serez\",\"seriez\",\"serions\",\"serons\",\"seront\",\"ses\",\"seul\",\"seule\",\"seulement\",\"si\",\"sien\",\"sienne\",\"siennes\",\"siens\",\"sinon\",\"six\",\"sixième\",\"soi\",\"soi-même\",\"soient\",\"sois\",\"soit\",\"soixante\",\"sommes\",\"son\",\"sont\",\"sous\",\"souvent\",\"soyez\",\"soyons\",\"specifique\",\"specifiques\",\"speculatif\",\"stop\",\"strictement\",\"subtiles\",\"suffisant\",\"suffisante\",\"suffit\",\"suis\",\"suit\",\"suivant\",\"suivante\",\"suivantes\",\"suivants\",\"suivre\",\"sujet\",\"superpose\",\"sur\",\"surtout\",\"t\",\"ta\",\"tac\",\"tandis\",\"tant\",\"tardive\",\"te\",\"tel\",\"telle\",\"tellement\",\"telles\",\"tels\",\"tenant\",\"tend\",\"tenir\",\"tente\",\"tes\",\"tic\",\"tien\",\"tienne\",\"tiennes\",\"tiens\",\"toc\",\"toi\",\"toi-même\",\"ton\",\"touchant\",\"toujours\",\"tous\",\"tout\",\"toute\",\"toutefois\",\"toutes\",\"treize\",\"trente\",\"tres\",\"trois\",\"troisième\",\"troisièmement\",\"trop\",\"très\",\"tsoin\",\"tsouin\",\"tu\",\"té\",\"u\",\"un\",\"une\",\"unes\",\"uniformement\",\"unique\",\"uniques\",\"uns\",\"v\",\"va\",\"vais\",\"valeur\",\"vas\",\"vers\",\"via\",\"vif\",\"vifs\",\"vingt\",\"vivat\",\"vive\",\"vives\",\"vlan\",\"voici\",\"voie\",\"voient\",\"voilà\",\"voire\",\"vont\",\"vos\",\"votre\",\"vous\",\"vous-mêmes\",\"vu\",\"vé\",\"vôtre\",\"vôtres\",\"w\",\"x\",\"y\",\"z\",\"zut\",\"à\",\"â\",\"ça\",\"ès\",\"étaient\",\"étais\",\"était\",\"étant\",\"état\",\"étiez\",\"étions\",\"été\",\"étée\",\"étées\",\"étés\",\"êtes\",\"être\",\"ô\",\"s\", \"da\", \"x\", \"se\",\"www\",\"m\",\"http\",\"https\",\"amp\",\"rt\",\"t\",\"c\",\"the\", \"to\", \"a\", \"in\", \"my\", \"ik\", \"com\", \"pic\",\"i\",\"s\" \"twitter\", \"status\", \"p\",\"si\", \"de\", \"mbteamgl\", \"to\",\"AT_USER \",\"a's\" , \"able\" , \"about\" , \"above\" , \"according\" , \"accordingly\" , \"across\" , \"actually\" , \"after\" , \"afterwards\" , \"again\" , \"against\" , \"ain't\" , \"all\" , \"allow\" , \"allows\" , \"almost\" , \"alone\" , \"along\" , \"already\" , \"also\" , \"although\" , \"always\" , \"am\" , \"among\" , \"amongst\" , \"an\" , \"and\" , \"another\" , \"any\" , \"anybody\" , \"anyhow\" , \"anyone\" , \"anything\" , \"anyway\" , \"anyways\" , \"anywhere\" , \"apart\" , \"appear\" , \"appreciate\" , \"appropriate\" , \"are\" , \"aren't\" , \"around\" , \"as\" , \"aside\" , \"ask\" , \"asking\" , \"associated\" , \"at\" , \"available\" , \"away\" , \"awfully\" , \"be\" , \"became\" , \"because\" , \"become\" , \"becomes\" , \"becoming\" , \"been\" , \"before\" , \"beforehand\" , \"behind\" , \"being\" , \"believe\" , \"below\" , \"beside\" , \"besides\" , \"best\" , \"better\" , \"between\" , \"beyond\" , \"both\" , \"brief\" , \"but\" , \"by\" , \"c'mon\" , \"c's\" , \"came\" , \"can\" , \"can't\" , \"cannot\" , \"cant\" , \"cause\" , \"causes\" , \"certain\" , \"certainly\" , \"changes\" , \"clearly\" , \"co\" , \"com\" , \"come\" , \"comes\" , \"concerning\" , \"consequently\" , \"consider\" , \"considering\" , \"contain\" , \"containing\" , \"contains\" , \"corresponding\" , \"could\" , \"couldn't\" , \"course\" , \"currently\" , \"definitely\" , \"described\" , \"despite\" , \"did\" , \"didn't\" , \"different\" , \"do\" , \"does\" , \"doesn't\" , \"doing\" , \"don't\" , \"done\" , \"down\" , \"downwards\" , \"during\" , \"each\" , \"edu\" , \"eg\" , \"eight\" , \"either\" , \"else\" , \"elsewhere\" , \"enough\" , \"entirely\" , \"especially\" , \"et\" , \"etc\" , \"even\" , \"ever\" , \"every\" , \"everybody\" , \"everyone\" , \"everything\" , \"everywhere\" , \"ex\" , \"exactly\" , \"example\" , \"except\" , \"far\" , \"few\" , \"fifth\" , \"first\" , \"five\" , \"followed\" , \"following\" , \"follows\" , \"for\" , \"former\" , \"formerly\" , \"forth\" , \"four\" , \"from\" , \"further\" , \"furthermore\" , \"get\" , \"gets\" , \"getting\" , \"given\" , \"gives\" , \"go\" , \"goes\" , \"going\" , \"gone\" , \"got\" , \"gotten\" , \"greetings\" , \"had\" , \"hadn't\" , \"happens\" , \"hardly\" , \"has\" , \"hasn't\" , \"have\" , \"haven't\" , \"having\" , \"he\" , \"he's\" , \"hello\" , \"help\" , \"hence\" , \"her\" , \"here\" , \"here's\" , \"hereafter\" , \"hereby\" , \"herein\" , \"hereupon\" , \"hers\" , \"herself\" , \"hi\" , \"him\" , \"himself\" , \"his\" , \"hither\" , \"hopefully\" , \"how\" , \"howbeit\" , \"however\" , \"i'd\" , \"i'll\" , \"i'm\" , \"i've\" , \"ie\" , \"if\" , \"ignored\" , \"immediate\" , \"in\" , \"inasmuch\" , \"inc\" , \"indeed\" , \"indicate\" , \"indicated\" , \"indicates\" , \"inner\" , \"insofar\" , \"instead\" , \"into\" , \"inward\" , \"is\" , \"isn't\" , \"it\" , \"it'd\" , \"it'll\" , \"it's\" , \"its\" , \"itself\" , \"just\" , \"keep\" , \"keeps\" , \"kept\" , \"know\" , \"known\" , \"knows\" , \"last\" , \"lately\" , \"later\" , \"latter\" , \"latterly\" , \"least\" , \"less\" , \"lest\" , \"let\" , \"let's\" , \"like\" , \"liked\" , \"likely\" , \"little\" , \"look\" , \"looking\" , \"looks\" , \"ltd\" , \"mainly\" , \"many\" , \"may\" , \"maybe\" , \"me\" , \"mean\" , \"meanwhile\" , \"merely\" , \"might\" , \"more\" , \"moreover\" , \"most\" , \"mostly\" , \"much\" , \"must\" , \"my\" , \"myself\" , \"name\" , \"namely\" , \"nd\" , \"near\" , \"nearly\" , \"necessary\" , \"need\" , \"needs\" , \"neither\" , \"never\" , \"nevertheless\" , \"new\" , \"next\" , \"nine\" , \"no\" , \"nobody\" , \"non\" , \"none\" , \"noone\" , \"nor\" , \"normally\" , \"not\" , \"nothing\" , \"novel\" , \"now\" , \"nowhere\" , \"obviously\" , \"of\" , \"off\" , \"often\" , \"oh\" , \"ok\" , \"okay\" , \"old\" , \"on\" , \"once\" , \"one\" , \"ones\" , \"only\" , \"onto\" , \"or\" , \"other\" , \"others\" , \"otherwise\" , \"ought\" , \"our\" , \"ours\" , \"ourselves\" , \"out\" , \"outside\" , \"over\" , \"overall\" , \"own\" , \"particular\" , \"particularly\" , \"per\" , \"perhaps\" , \"placed\" , \"please\" , \"plus\" , \"possible\" , \"presumably\" , \"probably\" , \"provides\" , \"que\" , \"quite\" , \"qv\" , \"rather\" , \"rd\" , \"re\" , \"really\" , \"reasonably\" , \"regarding\" , \"regardless\" , \"regards\" , \"relatively\" , \"respectively\" , \"right\" , \"said\" , \"same\" , \"saw\" , \"say\" , \"saying\" , \"says\" , \"second\" , \"secondly\" , \"see\" , \"seeing\" , \"seem\" , \"seemed\" , \"seeming\" , \"seems\" , \"seen\" , \"self\" , \"selves\" , \"sensible\" , \"sent\" , \"serious\" , \"seriously\" , \"seven\" , \"several\" , \"shall\" , \"she\" , \"should\" , \"shouldn't\" , \"since\" , \"six\" , \"so\" , \"some\" , \"somebody\" , \"somehow\" , \"someone\" , \"something\" , \"sometime\" , \"sometimes\" , \"somewhat\" , \"somewhere\" , \"soon\" , \"sorry\" , \"specified\" , \"specify\" , \"specifying\" , \"still\" , \"sub\" , \"such\" , \"sup\" , \"sure\" , \"t's\" , \"take\" , \"taken\" , \"tell\" , \"tends\" , \"th\" , \"than\" , \"thank\" , \"thanks\" , \"thanx\" , \"that\" , \"that's\" , \"thats\" , \"the\" , \"their\" , \"theirs\" , \"them\" , \"themselves\" , \"then\" , \"thence\" , \"there\" , \"there's\" , \"thereafter\" , \"thereby\" , \"therefore\" , \"therein\" , \"theres\" , \"thereupon\" , \"these\" , \"they\" , \"they'd\" , \"they'll\" , \"they're\" , \"they've\" , \"think\" , \"third\" , \"this\" , \"thorough\" , \"thoroughly\" , \"those\" , \"though\" , \"three\" , \"through\" , \"throughout\" , \"thru\" , \"thus\" , \"to\" , \"together\" , \"too\" , \"took\" , \"toward\" , \"towards\" , \"tried\" , \"tries\" , \"truly\" , \"try\" , \"trying\" , \"twice\" , \"two\" , \"un\" , \"under\" , \"unfortunately\" , \"unless\" , \"unlikely\" , \"until\" , \"unto\" , \"up\" , \"upon\" , \"us\" , \"use\" , \"used\" , \"useful\" , \"uses\" , \"using\" , \"usually\" , \"value\" , \"various\" , \"very\" , \"via\" , \"viz\" , \"vs\" , \"want\" , \"wants\" , \"was\" , \"wasn't\" , \"way\" , \"we\" , \"we'd\" , \"we'll\" , \"we're\" , \"we've\" , \"welcome\" , \"well\" , \"went\" , \"were\" , \"weren't\" , \"what\" , \"what's\" , \"whatever\" , \"when\" , \"whence\" , \"whenever\" , \"where\" , \"where's\" , \"whereafter\" , \"whereas\" , \"whereby\" , \"wherein\" , \"whereupon\" , \"wherever\" , \"whether\" , \"which\" , \"while\" , \"whither\" , \"who\" , \"who's\" , \"whoever\" , \"whole\" , \"whom\" , \"whose\" , \"why\" , \"will\" , \"willing\" , \"wish\" , \"with\" , \"within\" , \"without\" , \"won't\" , \"wonder\" , \"would\" , \"wouldn't\" , \"yes\" , \"yet\" , \"you\" , \"you'd\" , \"you'll\" , \"you're\" , \"you've\" , \"your\" , \"yours\" , \"yourself\" , \"yourselves\" , \"zero\"]\n",
        "                \n",
        "stopwordsRemover = StopWordsRemover(inputCol=\"words\", outputCol=\"filtered\").setStopWords(add_stopwords)\n",
        "\n",
        "# bag of words count\n",
        "countVectors = CountVectorizer(inputCol=\"filtered\", outputCol=\"features\", vocabSize=10000, minDF=10)"
      ],
      "execution_count": null,
      "outputs": []
    },
    {
      "cell_type": "code",
      "metadata": {
        "id": "PZ2WLHCIhJ9f"
      },
      "source": [
        "from pyspark.ml.feature import OneHotEncoder, StringIndexer, VectorAssembler\n",
        "label_stringIdx = StringIndexer(inputCol = \"Vader Polarity Score\", outputCol = \"label\")"
      ],
      "execution_count": null,
      "outputs": []
    },
    {
      "cell_type": "code",
      "metadata": {
        "id": "L0__Va9ahJ9m"
      },
      "source": [
        "from pyspark.ml import Pipeline\n",
        "\n",
        "pipeline = Pipeline(stages=[regexTokenizer, stopwordsRemover, countVectors, label_stringIdx])\n",
        "\n",
        "# Fit the pipeline to training documents.\n",
        "pipelineFit = pipeline.fit(df2)\n",
        "dataset = pipelineFit.transform(df2)\n",
        "#test2 = pipelineFit()"
      ],
      "execution_count": null,
      "outputs": []
    },
    {
      "cell_type": "code",
      "metadata": {
        "id": "eQm7pX5shJ9r",
        "colab": {
          "base_uri": "https://localhost:8080/",
          "height": 224
        },
        "outputId": "59cbf5ce-9c30-4d12-a2b4-10e600eacfb7"
      },
      "source": [
        "dataset.show(5)"
      ],
      "execution_count": null,
      "outputs": [
        {
          "output_type": "stream",
          "text": [
            "+-----------+----------------+-------------+--------------------+--------------------------------+--------------------+--------------------+--------------------+--------------------+-----+\n",
            "|Player Name|Twitter Username|Timestamp GMT|    Twitter Text Raw|Twitter Text after Preprocessing|Vader Polarity Score|               words|            filtered|            features|label|\n",
            "+-----------+----------------+-------------+--------------------+--------------------------------+--------------------+--------------------+--------------------+--------------------+-----+\n",
            "|Karlovic I.|   <ivokarlovic>| 8/29/09 3:40| checking this th...|             checking this th...|                   0|[checking, this, ...|   [checking, thing]|(7950,[120,2340],...|  1.0|\n",
            "|Karlovic I.|   <ivokarlovic>|5/13/10 23:57| i'm still up. it...|             i'm still up. it...|                   0|[i, m, still, up,...|[2, madrid, room,...|(7950,[15,222,269...|  1.0|\n",
            "|Karlovic I.|   <ivokarlovic>|5/14/10 21:53| Just got to Zagr...|             just got to zagr...|                   1|[just, got, to, z...|      [zagreb, life]|(7950,[68,3759],[...|  0.0|\n",
            "|Karlovic I.|   <ivokarlovic>|6/30/10 19:02| Practiced tennis...|             practiced tennis...|                   1|[practiced, tenni...|[practiced, tenni...|(7950,[0,11,574,1...|  0.0|\n",
            "|Karlovic I.|   <ivokarlovic>|6/30/10 19:48| @StephenDog I do...|             AT_USER i don't ...|                   1|[stephendog, i, d...|[stephendog, don,...|(7950,[7,9,17,19,...|  0.0|\n",
            "+-----------+----------------+-------------+--------------------+--------------------------------+--------------------+--------------------+--------------------+--------------------+-----+\n",
            "only showing top 5 rows\n",
            "\n"
          ],
          "name": "stdout"
        }
      ]
    },
    {
      "cell_type": "markdown",
      "metadata": {
        "id": "KjEDrvAIhJ9y"
      },
      "source": [
        "#### Analytics"
      ]
    },
    {
      "cell_type": "code",
      "metadata": {
        "id": "mD0_FaWAhJ9z",
        "outputId": "34642ca2-85ee-4124-d720-ecc73ad07d1d"
      },
      "source": [
        "import pyspark.sql.functions as f\n",
        "\n",
        "dataset.withColumn('mots', f.explode(f.split(f.col('Twitter Text Raw'), ' ')))\\\n",
        "    .groupBy('mots')\\\n",
        "    .count()\\\n",
        "    .sort('count', ascending=False)\\\n",
        "    .show()"
      ],
      "execution_count": null,
      "outputs": [
        {
          "output_type": "stream",
          "text": [
            "+----+------+\n",
            "|mots| count|\n",
            "+----+------+\n",
            "|    |142059|\n",
            "| the| 34449|\n",
            "|  to| 32924|\n",
            "|   I| 25943|\n",
            "|   a| 22119|\n",
            "| you| 17328|\n",
            "| for| 17197|\n",
            "|  in| 17142|\n",
            "| and| 16802|\n",
            "|  my| 15117|\n",
            "|  of| 12363|\n",
            "|  is| 12014|\n",
            "|  on| 11024|\n",
            "|with|  9166|\n",
            "|  :)|  7378|\n",
            "|  it|  7298|\n",
            "|  at|  6974|\n",
            "|  be|  6860|\n",
            "|this|  6201|\n",
            "|  me|  5912|\n",
            "+----+------+\n",
            "only showing top 20 rows\n",
            "\n"
          ],
          "name": "stdout"
        }
      ]
    },
    {
      "cell_type": "code",
      "metadata": {
        "id": "vBG9uT0RhJ97"
      },
      "source": [
        "dataset.groupBy(\"label\").count().show()"
      ],
      "execution_count": null,
      "outputs": []
    },
    {
      "cell_type": "code",
      "metadata": {
        "id": "-RGhK_Y2hJ-D"
      },
      "source": [
        ""
      ],
      "execution_count": null,
      "outputs": []
    },
    {
      "cell_type": "markdown",
      "metadata": {
        "id": "ZLI5ZAINhJ-J"
      },
      "source": [
        "#### Train_test_split\n"
      ]
    },
    {
      "cell_type": "code",
      "metadata": {
        "id": "4p6ZyanghJ-K"
      },
      "source": [
        "from sklearn.model_selection import train_test_split\n",
        "import pandas as pd \n",
        "\n",
        "dataframe = dataset.select(\"Vader Polarity Score\",\"filtered\",\"features\",\"label\").toPandas()"
      ],
      "execution_count": null,
      "outputs": []
    },
    {
      "cell_type": "code",
      "metadata": {
        "id": "09J3AWxghJ-P",
        "colab": {
          "base_uri": "https://localhost:8080/",
          "height": 204
        },
        "outputId": "28cd31a5-656f-4afb-8bc6-67664d92fa12"
      },
      "source": [
        "dataframe.head()"
      ],
      "execution_count": null,
      "outputs": [
        {
          "output_type": "execute_result",
          "data": {
            "text/html": [
              "<div>\n",
              "<style scoped>\n",
              "    .dataframe tbody tr th:only-of-type {\n",
              "        vertical-align: middle;\n",
              "    }\n",
              "\n",
              "    .dataframe tbody tr th {\n",
              "        vertical-align: top;\n",
              "    }\n",
              "\n",
              "    .dataframe thead th {\n",
              "        text-align: right;\n",
              "    }\n",
              "</style>\n",
              "<table border=\"1\" class=\"dataframe\">\n",
              "  <thead>\n",
              "    <tr style=\"text-align: right;\">\n",
              "      <th></th>\n",
              "      <th>Vader Polarity Score</th>\n",
              "      <th>filtered</th>\n",
              "      <th>features</th>\n",
              "      <th>label</th>\n",
              "    </tr>\n",
              "  </thead>\n",
              "  <tbody>\n",
              "    <tr>\n",
              "      <th>0</th>\n",
              "      <td>0</td>\n",
              "      <td>[checking, thing]</td>\n",
              "      <td>(0.0, 0.0, 0.0, 0.0, 0.0, 0.0, 0.0, 0.0, 0.0, ...</td>\n",
              "      <td>1.0</td>\n",
              "    </tr>\n",
              "    <tr>\n",
              "      <th>1</th>\n",
              "      <td>0</td>\n",
              "      <td>[2, madrid, room, service, ajmo]</td>\n",
              "      <td>(0.0, 0.0, 0.0, 0.0, 0.0, 0.0, 0.0, 0.0, 0.0, ...</td>\n",
              "      <td>1.0</td>\n",
              "    </tr>\n",
              "    <tr>\n",
              "      <th>2</th>\n",
              "      <td>1</td>\n",
              "      <td>[zagreb, life]</td>\n",
              "      <td>(0.0, 0.0, 0.0, 0.0, 0.0, 0.0, 0.0, 0.0, 0.0, ...</td>\n",
              "      <td>0.0</td>\n",
              "    </tr>\n",
              "    <tr>\n",
              "      <th>3</th>\n",
              "      <td>1</td>\n",
              "      <td>[practiced, tennis, felt, good]</td>\n",
              "      <td>(1.0, 0.0, 0.0, 0.0, 0.0, 0.0, 0.0, 0.0, 0.0, ...</td>\n",
              "      <td>0.0</td>\n",
              "    </tr>\n",
              "    <tr>\n",
              "      <th>4</th>\n",
              "      <td>1</td>\n",
              "      <td>[stephendog, don, ace, record, back, play, dam...</td>\n",
              "      <td>(0.0, 0.0, 0.0, 0.0, 0.0, 0.0, 0.0, 1.0, 0.0, ...</td>\n",
              "      <td>0.0</td>\n",
              "    </tr>\n",
              "  </tbody>\n",
              "</table>\n",
              "</div>"
            ],
            "text/plain": [
              "   Vader Polarity Score  ... label\n",
              "0                     0  ...   1.0\n",
              "1                     0  ...   1.0\n",
              "2                     1  ...   0.0\n",
              "3                     1  ...   0.0\n",
              "4                     1  ...   0.0\n",
              "\n",
              "[5 rows x 4 columns]"
            ]
          },
          "metadata": {
            "tags": []
          },
          "execution_count": 21
        }
      ]
    },
    {
      "cell_type": "code",
      "metadata": {
        "id": "5uKIv0abhJ-W"
      },
      "source": [
        "X = dataframe[[\"Vader Polarity Score\",\"filtered\",\"features\"]]\n",
        "Y = dataframe[\"label\"]\n",
        "X_train, X_test, y_train, y_test=train_test_split(X,Y,stratify = Y,random_state = 100,train_size=0.70)"
      ],
      "execution_count": null,
      "outputs": []
    },
    {
      "cell_type": "markdown",
      "metadata": {
        "id": "7UjxHpTjhJ-e"
      },
      "source": [
        "* Correspondance en Spark"
      ]
    },
    {
      "cell_type": "markdown",
      "metadata": {
        "id": "la12iVtQhJ-f"
      },
      "source": [
        "__Evaluation des proportions__"
      ]
    },
    {
      "cell_type": "code",
      "metadata": {
        "id": "tGptHEIjhJ-g"
      },
      "source": [
        "trainingData = sqlContext.createDataFrame(X_train.join(y_train))\n",
        "testData = sqlContext.createDataFrame(X_test.join(y_test))\n"
      ],
      "execution_count": null,
      "outputs": []
    },
    {
      "cell_type": "code",
      "metadata": {
        "id": "vYtOpAczhJ-l",
        "colab": {
          "base_uri": "https://localhost:8080/",
          "height": 51
        },
        "outputId": "147e547f-ef8c-44ba-bace-e068a76738d5"
      },
      "source": [
        "### Randomly split data into training and test sets. set seed for reproducibility\n",
        "#(trainingData, testData) = dataset.randomSplit([0.7, 0.3], seed = 100)\n",
        "print(\"Training Dataset Count: \" + str(trainingData.count()))\n",
        "print(\"Test Dataset Count: \" + str(testData.count()))"
      ],
      "execution_count": null,
      "outputs": [
        {
          "output_type": "stream",
          "text": [
            "Training Dataset Count: 87038\n",
            "Test Dataset Count: 37303\n"
          ],
          "name": "stdout"
        }
      ]
    },
    {
      "cell_type": "code",
      "metadata": {
        "id": "OyZMbLBehJ-u",
        "colab": {
          "base_uri": "https://localhost:8080/",
          "height": 153
        },
        "outputId": "6d19b96c-69af-4948-c23e-d419b8fc131d"
      },
      "source": [
        "trainingData.groupBy(\"label\").count().show()"
      ],
      "execution_count": null,
      "outputs": [
        {
          "output_type": "stream",
          "text": [
            "+-----+-----+\n",
            "|label|count|\n",
            "+-----+-----+\n",
            "|  0.0|41514|\n",
            "|  1.0|40675|\n",
            "|  2.0| 4849|\n",
            "+-----+-----+\n",
            "\n"
          ],
          "name": "stdout"
        }
      ]
    },
    {
      "cell_type": "markdown",
      "metadata": {
        "id": "e16RkhaMhJ-3"
      },
      "source": [
        "__5,61% de tweets negatifs, 46,54% de tweets neutres et 47,85% de tweet positifs__"
      ]
    },
    {
      "cell_type": "code",
      "metadata": {
        "id": "ySRPXCvchJ-6",
        "colab": {
          "base_uri": "https://localhost:8080/",
          "height": 153
        },
        "outputId": "1ce4ee8a-052d-4e1d-e5d6-63a541ec2bdb"
      },
      "source": [
        "testData.groupBy(\"label\").count().show()"
      ],
      "execution_count": null,
      "outputs": [
        {
          "output_type": "stream",
          "text": [
            "+-----+-----+\n",
            "|label|count|\n",
            "+-----+-----+\n",
            "|  0.0|17793|\n",
            "|  1.0|17432|\n",
            "|  2.0| 2078|\n",
            "+-----+-----+\n",
            "\n"
          ],
          "name": "stdout"
        }
      ]
    },
    {
      "cell_type": "markdown",
      "metadata": {
        "id": "BC36uJm_hJ_C"
      },
      "source": [
        "__5,54% de tweets negatifs, 46,46 de tweets neutres et 48% de tweets positifs__"
      ]
    },
    {
      "cell_type": "code",
      "metadata": {
        "id": "Z3UVyJxwhJ_D"
      },
      "source": [
        "# Build the model\n",
        "lr = LogisticRegression(maxIter=20, regParam=0.3, elasticNetParam=0)\n",
        "\n",
        "# Train model with Training Data\n",
        "lrModel = lr.fit(trainingData)"
      ],
      "execution_count": null,
      "outputs": []
    },
    {
      "cell_type": "code",
      "metadata": {
        "id": "xnOG-0X7hJ_K"
      },
      "source": [
        "predictions = lrModel.transform(testData)\n",
        "\n",
        "predictions.filter(predictions['prediction'] == 0) \\\n",
        "    .select(\"filtered\",\"Vader Polarity Score\",\"probability\",\"label\",\"prediction\") \\\n",
        "    .orderBy(\"probability\", ascending=False) \\\n",
        "    .show(n = 10, truncate = 30)"
      ],
      "execution_count": null,
      "outputs": []
    },
    {
      "cell_type": "code",
      "metadata": {
        "id": "-qi-d3GhhJ_X"
      },
      "source": [
        "from pyspark.ml.evaluation import MulticlassClassificationEvaluator\n",
        "\n",
        "evaluator = MulticlassClassificationEvaluator(labelCol=\"label\", predictionCol=\"prediction\", metricName=\"f1\")\n",
        "evaluator.evaluate(predictions)"
      ],
      "execution_count": null,
      "outputs": []
    },
    {
      "cell_type": "markdown",
      "metadata": {
        "id": "Im1qDyXKhJ_e"
      },
      "source": [
        "### Forets aléatoires"
      ]
    },
    {
      "cell_type": "code",
      "metadata": {
        "id": "SE33Ev0mhJ_f"
      },
      "source": [
        "from pyspark.ml.classification import RandomForestClassifier\n",
        "rf = RandomForestClassifier(featuresCol = 'features', labelCol = 'label')\n",
        "rfModel = rf.fit(trainingData)\n",
        "predictions_rf = rfModel.transform(testData)\n"
      ],
      "execution_count": null,
      "outputs": []
    },
    {
      "cell_type": "code",
      "metadata": {
        "id": "T1_tJoTzhJ_s"
      },
      "source": [
        "from pyspark.ml import Pipeline\n",
        "from pyspark.ml.classification import RandomForestClassifier\n",
        "from pyspark.ml.evaluation import MulticlassClassificationEvaluator\n",
        "from pyspark.ml.tuning import CrossValidator, ParamGridBuilder\n",
        "\n",
        "\n",
        "rf = RandomForestClassifier(labelCol=\"label\", featuresCol=\"features\", numTrees=10)\n",
        "pipeline = Pipeline(stages=[rf])\n",
        "paramGrid = (ParamGridBuilder()\n",
        "                            .addGrid(rf.numTrees, [10, 30])\n",
        "                            .addGrid(rf.maxDepth,[5,25])\n",
        "                            .build())\n",
        "\n",
        "crossval = CrossValidator(estimator=pipeline,\n",
        "                          estimatorParamMaps=paramGrid,\n",
        "                          evaluator=MulticlassClassificationEvaluator(),\n",
        "                          numFolds=2) \n",
        "\n",
        "rfModel = crossval.fit(trainingData)\n",
        "predictions_rf = rfModel.transform(testData)\n",
        "evaluatorrf = MulticlassClassificationEvaluator(labelCol=\"label\", predictionCol=\"prediction\", metricName=\"f1\")\n",
        "evaluatorrf.evaluate(predictions_rf)"
      ],
      "execution_count": null,
      "outputs": []
    },
    {
      "cell_type": "markdown",
      "metadata": {
        "id": "48Ya5tg6hJ_7"
      },
      "source": [
        "##### Sauvegarde"
      ]
    },
    {
      "cell_type": "code",
      "metadata": {
        "id": "slkB8vNVhJ__"
      },
      "source": [
        "rfModel.bestModel.write().overwrite().save(path=\"ForestModelFilRouge\")"
      ],
      "execution_count": null,
      "outputs": []
    },
    {
      "cell_type": "markdown",
      "metadata": {
        "id": "adylNxeZhKAE"
      },
      "source": [
        "##### Evaluation"
      ]
    },
    {
      "cell_type": "code",
      "metadata": {
        "id": "6W_0z8DbhKAF"
      },
      "source": [
        "from sklearn.metrics import confusion_matrix, f1_score,accuracy_score\n",
        "\n",
        "\"\"\"from pyspark.ml.tuning import CrossValidator\n",
        "rfModel = CrossValidator.load(\"ForestModelFilRouge\")\"\"\"\n",
        "\n",
        "predictions_rf = rfModel.transform(testData)\n",
        "predictions_rfDF = predictions_rf.toPandas()\n",
        "\n",
        "y_predrf = predictions_rfDF.prediction\n",
        "y_truerf= predictions_rfDF.label\n",
        "\n",
        "\n",
        "f1Score = f1_score(y_truerf, y_predrf,average=\"macro\")\n",
        "precision = accuracy_score(y_pred=y_predrf,y_true=y_truerf)\n",
        "print(\"Summary Stats\")\n",
        "print(\"Precision = %s\" % precision)\n",
        "#print(\"Recall = %s\" % recall)\n",
        "print(\"F1 Score = %s\" % f1Score)"
      ],
      "execution_count": null,
      "outputs": []
    },
    {
      "cell_type": "code",
      "metadata": {
        "id": "vzw2i3vOhKAO"
      },
      "source": [
        ""
      ],
      "execution_count": null,
      "outputs": []
    },
    {
      "cell_type": "markdown",
      "metadata": {
        "id": "umJBDM5yhKAe"
      },
      "source": [
        "##### Confusion Matrix"
      ]
    },
    {
      "cell_type": "code",
      "metadata": {
        "id": "UjuUiGuohKAi"
      },
      "source": [
        "from pyspark.mllib.evaluation import MulticlassMetrics\n",
        "\n",
        "predictionAndLabel = predictions_rf.rdd.map(lambda x: (x.prediction,x.label))\n",
        "metrics = MulticlassMetrics(predictionAndLabel)\n",
        "\n",
        "# Overall statistics\n",
        "precision = metrics.precision()\n",
        "recall = metrics.recall()\n",
        "f1Score = metrics.fMeasure()\n",
        "print(\"Summary Stats\")\n",
        "print(\"Precision = %s\" % precision)\n",
        "print(\"Recall = %s\" % recall)\n",
        "print(\"F1 Score = %s\" % f1Score)\n"
      ],
      "execution_count": null,
      "outputs": []
    },
    {
      "cell_type": "markdown",
      "metadata": {
        "id": "PSvOkmuFhKAy"
      },
      "source": [
        "## SVM"
      ]
    },
    {
      "cell_type": "code",
      "metadata": {
        "id": "VivhR_v7hKA0"
      },
      "source": [
        "from pyspark.ml.classification import LinearSVC,OneVsRest\n",
        "\n",
        "lsvc = LinearSVC(maxIter=10, regParam=0.1)\n",
        "ovr = OneVsRest(classifier=lsvc)\n",
        "evaluator = MulticlassClassificationEvaluator(labelCol=\"label\", predictionCol=\"prediction\", metricName=\"f1\")\n",
        "\n",
        "\n",
        "paramGrid = (ParamGridBuilder()\n",
        "             .addGrid(lsvc.regParam, [0.1, 0.3, 0.5,1]) # regularization parameter\n",
        "             .addGrid(lsvc.maxIter, [5, 10, 20]) # \n",
        "             .build())\n",
        "\n",
        "# Create 5-fold CrossValidator\n",
        "cv = CrossValidator(estimator=ovr, \\\n",
        "                    estimatorParamMaps=paramGrid, \\\n",
        "                    evaluator=evaluator, \\\n",
        "                    numFolds=5)\n",
        "\n",
        "lsvcModel = cv.fit(trainingData)\n",
        "predictions_SVM = lsvcModel.transform(testData)\n",
        "evaluatorsvm = MulticlassClassificationEvaluator(labelCol=\"label\", predictionCol=\"prediction\", metricName=\"f1\")\n",
        "evaluatorsvm.evaluate(predictions_SVM)"
      ],
      "execution_count": null,
      "outputs": []
    },
    {
      "cell_type": "markdown",
      "metadata": {
        "id": "GOxVdJaahKBA"
      },
      "source": [
        "#### Sauvegarde"
      ]
    },
    {
      "cell_type": "code",
      "metadata": {
        "id": "FITzpP11hKBB"
      },
      "source": [
        "lsvcModel.save(path=\"SVMfilRougeModel\")"
      ],
      "execution_count": null,
      "outputs": []
    },
    {
      "cell_type": "code",
      "metadata": {
        "id": "U8a7EG18hKBR"
      },
      "source": [
        "from pyspark.ml.classification import OneVsRest\n",
        "from pyspark.ml.tuning import CrossValidatorModel\n",
        "\n",
        "lsvcModel = CrossValidatorModel.load(\"SVMfilRougeModel\") "
      ],
      "execution_count": null,
      "outputs": []
    },
    {
      "cell_type": "markdown",
      "metadata": {
        "id": "74NX7awahKBb"
      },
      "source": [
        "## __Deep Learning__"
      ]
    },
    {
      "cell_type": "markdown",
      "metadata": {
        "id": "7uOioEYihKBc"
      },
      "source": [
        "__Les embeddings__"
      ]
    },
    {
      "cell_type": "code",
      "metadata": {
        "id": "EJNm2p89hKBe"
      },
      "source": [
        "from pyspark.ml.feature import Word2Vec\n",
        "\n",
        "modelEmbbedding = Word2Vec(inputCol=\"filtered\",outputCol=\"cbow\",vectorSize=36)\n",
        "cbow = modelEmbbedding.fit(dataset)"
      ],
      "execution_count": null,
      "outputs": []
    },
    {
      "cell_type": "markdown",
      "metadata": {
        "id": "CJASuUcOhKBm"
      },
      "source": [
        "__Similarité entre les mots : exemple du tournoi wimbledon :__"
      ]
    },
    {
      "cell_type": "code",
      "metadata": {
        "id": "V-74G8fxhKBo",
        "colab": {
          "base_uri": "https://localhost:8080/",
          "height": 187
        },
        "outputId": "b00f76df-b2b2-472d-f99a-4a73a293c14a"
      },
      "source": [
        "cbow.findSynonyms(\"wimbledon\",num=5).show(5)"
      ],
      "execution_count": null,
      "outputs": [
        {
          "output_type": "stream",
          "text": [
            "+-------------+------------------+\n",
            "|         word|        similarity|\n",
            "+-------------+------------------+\n",
            "| mallorcaopen| 0.781241238117218|\n",
            "|porschetennis|0.7284135818481445|\n",
            "|         linz|0.7279032468795776|\n",
            "|          wta|0.7122929096221924|\n",
            "|    teampetra|0.7121431231498718|\n",
            "+-------------+------------------+\n",
            "\n"
          ],
          "name": "stdout"
        }
      ]
    },
    {
      "cell_type": "markdown",
      "metadata": {
        "id": "7soOvTrehKBx"
      },
      "source": [
        "__Recuperation du vocabulaire__"
      ]
    },
    {
      "cell_type": "code",
      "metadata": {
        "id": "bq-_Fsr9hKB2"
      },
      "source": [
        "vocab = cbow.getVectors().select(\"word\")"
      ],
      "execution_count": null,
      "outputs": []
    },
    {
      "cell_type": "code",
      "metadata": {
        "id": "aCWmMG9NhKCA",
        "colab": {
          "base_uri": "https://localhost:8080/",
          "height": 204
        },
        "outputId": "e89b1264-19cb-4db5-f94f-bf6e8d1c72fd"
      },
      "source": [
        "vocab.show(5)"
      ],
      "execution_count": null,
      "outputs": [
        {
          "output_type": "stream",
          "text": [
            "+-----------+\n",
            "|       word|\n",
            "+-----------+\n",
            "|   incident|\n",
            "|nbcolympics|\n",
            "|       buns|\n",
            "|  lairdlife|\n",
            "|   zaventem|\n",
            "+-----------+\n",
            "only showing top 5 rows\n",
            "\n"
          ],
          "name": "stdout"
        }
      ]
    },
    {
      "cell_type": "markdown",
      "metadata": {
        "id": "rpLTDcBPhKCH"
      },
      "source": [
        "__Taille du vocabulaire__"
      ]
    },
    {
      "cell_type": "code",
      "metadata": {
        "id": "x8HvCLtPhKCL",
        "colab": {
          "base_uri": "https://localhost:8080/",
          "height": 34
        },
        "outputId": "0825c880-153c-4f27-8b65-edbb158d9d57"
      },
      "source": [
        "vocab.count()"
      ],
      "execution_count": null,
      "outputs": [
        {
          "output_type": "execute_result",
          "data": {
            "text/plain": [
              "14073"
            ]
          },
          "metadata": {
            "tags": []
          },
          "execution_count": 32
        }
      ]
    },
    {
      "cell_type": "markdown",
      "metadata": {
        "id": "smJsf3_ahKCS"
      },
      "source": [
        "__Construction du modele / Import des Packages__"
      ]
    },
    {
      "cell_type": "code",
      "metadata": {
        "id": "ULdHky5khKCT"
      },
      "source": [
        "from keras.preprocessing.text import Tokenizer\n",
        "from keras.preprocessing.sequence import pad_sequences\n",
        "from keras.models import Sequential\n",
        "from keras.layers import Dense, Embedding, LSTM, SpatialDropout1D\n",
        "from sklearn.model_selection import train_test_split\n",
        "from keras.utils.np_utils import to_categorical\n",
        "import re\n",
        "\n"
      ],
      "execution_count": null,
      "outputs": []
    },
    {
      "cell_type": "markdown",
      "metadata": {
        "id": "aU7RWKqGhKCd"
      },
      "source": [
        "__Vectorisation : Word2Vec__"
      ]
    },
    {
      "cell_type": "code",
      "metadata": {
        "id": "V4xXoG1VhKCe"
      },
      "source": [
        "max_fatures = vocab.count() + 1\n",
        "tokenizer = Tokenizer(num_words=max_fatures, split=' ')\n",
        "tokenizer.fit_on_texts(dataframe[\"filtered\"].values)\n",
        "\n",
        "X = tokenizer.texts_to_sequences(dataframe[\"filtered\"].values)\n",
        "X = pad_sequences(X)"
      ],
      "execution_count": null,
      "outputs": []
    },
    {
      "cell_type": "code",
      "metadata": {
        "id": "0Wifj2CvhKCk",
        "colab": {
          "base_uri": "https://localhost:8080/",
          "height": 34
        },
        "outputId": "803e4510-e610-4edb-90c9-6a1710a12ba7"
      },
      "source": [
        "np.shape(X)"
      ],
      "execution_count": null,
      "outputs": [
        {
          "output_type": "execute_result",
          "data": {
            "text/plain": [
              "(124341, 36)"
            ]
          },
          "metadata": {
            "tags": []
          },
          "execution_count": 35
        }
      ]
    },
    {
      "cell_type": "code",
      "metadata": {
        "id": "EFNvTNmDhKCr",
        "outputId": "e1dd5c44-130f-4fdf-9d99-4e90b71f85dc"
      },
      "source": [
        "X"
      ],
      "execution_count": null,
      "outputs": [
        {
          "output_type": "execute_result",
          "data": {
            "text/plain": [
              "array([[   0,    0,    0, ...,    0, 2290,  121],\n",
              "       [   0,    0,    0, ...,  223,  943, 6063],\n",
              "       [   0,    0,    0, ...,    0, 3715,   69],\n",
              "       ...,\n",
              "       [   0,    0,    0, ..., 4082, 8467,  606],\n",
              "       [   0,    0,    0, ...,    0,    0,  847],\n",
              "       [   0,    0,    0, ...,  445,  263,  439]])"
            ]
          },
          "metadata": {
            "tags": []
          },
          "execution_count": 35
        }
      ]
    },
    {
      "cell_type": "code",
      "metadata": {
        "id": "oAlgkKdyhKCy"
      },
      "source": [
        "X_train, X_test, y_train, y_test=train_test_split(X,Y,stratify = Y,random_state = 100,train_size=0.70)\n",
        "\n",
        "y_train = pd.get_dummies(y_train.values).values\n",
        "y_test = pd.get_dummies(y_test.values).values"
      ],
      "execution_count": null,
      "outputs": []
    },
    {
      "cell_type": "markdown",
      "metadata": {
        "id": "kH6m9mp-hKC6"
      },
      "source": [
        "### __Reseaux recurrents__"
      ]
    },
    {
      "cell_type": "code",
      "metadata": {
        "id": "cTw0XSKkhKC8",
        "colab": {
          "base_uri": "https://localhost:8080/",
          "height": 306
        },
        "outputId": "40605aff-4cc1-46de-8bc8-a2b09f8d6250"
      },
      "source": [
        "embed_dim = 100\n",
        "lstm_out = 15\n",
        "\n",
        "model = Sequential()\n",
        "model.add(Embedding(input_dim=max_fatures, output_dim=embed_dim,input_length = X.shape[1]))\n",
        "model.add(SpatialDropout1D(0.4))\n",
        "model.add(LSTM(lstm_out, dropout=0.2, recurrent_dropout=0.2))\n",
        "model.add(Dense(3,activation='softmax'))\n",
        "model.compile(loss = 'categorical_crossentropy', optimizer='adam',metrics = ['accuracy'])\n",
        "print(model.summary())"
      ],
      "execution_count": null,
      "outputs": [
        {
          "output_type": "stream",
          "text": [
            "Model: \"sequential_13\"\n",
            "_________________________________________________________________\n",
            "Layer (type)                 Output Shape              Param #   \n",
            "=================================================================\n",
            "embedding_12 (Embedding)     (None, 36, 100)           1407400   \n",
            "_________________________________________________________________\n",
            "spatial_dropout1d_1 (Spatial (None, 36, 100)           0         \n",
            "_________________________________________________________________\n",
            "lstm_5 (LSTM)                (None, 15)                6960      \n",
            "_________________________________________________________________\n",
            "dense_11 (Dense)             (None, 3)                 48        \n",
            "=================================================================\n",
            "Total params: 1,414,408\n",
            "Trainable params: 1,414,408\n",
            "Non-trainable params: 0\n",
            "_________________________________________________________________\n",
            "None\n"
          ],
          "name": "stdout"
        }
      ]
    },
    {
      "cell_type": "code",
      "metadata": {
        "id": "5_OVN9GXhKDD"
      },
      "source": [
        ""
      ],
      "execution_count": null,
      "outputs": []
    },
    {
      "cell_type": "code",
      "metadata": {
        "id": "BPpplYglhKDL"
      },
      "source": [
        "\"\"\"import pandas as pd \n",
        "import numpy as np \n",
        "\n",
        "Y = pd.get_dummies(donnesFiltre[\"label\"].values).values\n",
        "X_train, X_test, Y_train, Y_test = train_test_split(X,Y, test_size = 0.30,stratify = Y, random_state = 100)\"\"\"\n",
        "\n",
        "print(X_train.shape,y_train.shape)\n",
        "print(X_test.shape,y_test.shape)"
      ],
      "execution_count": null,
      "outputs": []
    },
    {
      "cell_type": "markdown",
      "metadata": {
        "id": "zynj2U9JhKDR"
      },
      "source": [
        "__Finetuning__"
      ]
    },
    {
      "cell_type": "code",
      "metadata": {
        "id": "uj_9eFf7hKDS"
      },
      "source": [
        "batch_size = 64\n",
        "history = model.fit(X_train, y_train, epochs = 12, batch_size=batch_size, verbose = 1)\n",
        "\n"
      ],
      "execution_count": null,
      "outputs": []
    },
    {
      "cell_type": "code",
      "metadata": {
        "id": "7pPqMSw5hKDW"
      },
      "source": [
        "history.params"
      ],
      "execution_count": null,
      "outputs": []
    },
    {
      "cell_type": "code",
      "metadata": {
        "id": "pr8oWq0DhKDa"
      },
      "source": [
        "from matplotlib import pyplot as plt \n",
        "\n",
        "# Plot training & validation accuracy values\n",
        "plt.plot(history.history['acc'])\n",
        "#plt.plot(history.history['val_acc'])\n",
        "plt.title('Model accuracy')\n",
        "plt.ylabel('Accuracy')\n",
        "plt.xlabel('Epoch')\n",
        "plt.legend(['Train', 'Test'], loc='upper left')\n",
        "plt.show()\n",
        "\n",
        "# Plot training & validation loss values\n",
        "plt.plot(history.history['loss'])\n",
        "#plt.plot(history.history['val_loss'])\n",
        "plt.title('Model loss')\n",
        "plt.ylabel('Loss')\n",
        "plt.xlabel('Epoch')\n",
        "plt.legend(['Train', 'Test'], loc='upper left')\n",
        "plt.show()"
      ],
      "execution_count": null,
      "outputs": []
    },
    {
      "cell_type": "code",
      "metadata": {
        "id": "QcTS0hB7hKDd"
      },
      "source": [
        "\n",
        "score,acc = model.evaluate(X_test, Y_test, verbose = 1, batch_size = batch_size)\n",
        "print(\"score: %.2f\" % (score))\n",
        "print(\"acc: %.2f\" % (acc))"
      ],
      "execution_count": null,
      "outputs": []
    },
    {
      "cell_type": "code",
      "metadata": {
        "id": "keCau2hkhKDi"
      },
      "source": [
        ""
      ],
      "execution_count": null,
      "outputs": []
    },
    {
      "cell_type": "markdown",
      "metadata": {
        "id": "AJFE--gfhKDm"
      },
      "source": [
        "__confusion matrix__"
      ]
    },
    {
      "cell_type": "code",
      "metadata": {
        "id": "hMyfwD7ahKDn"
      },
      "source": [
        "predictionNN = model.predict(X_test,verbose = 1)"
      ],
      "execution_count": null,
      "outputs": []
    },
    {
      "cell_type": "code",
      "metadata": {
        "id": "5YDyLTMWhKDp"
      },
      "source": [
        "predictionNN"
      ],
      "execution_count": null,
      "outputs": []
    },
    {
      "cell_type": "code",
      "metadata": {
        "id": "6FXfgLPzhKDw"
      },
      "source": [
        ""
      ],
      "execution_count": null,
      "outputs": []
    },
    {
      "cell_type": "markdown",
      "metadata": {
        "id": "oDIdFe60hKD6"
      },
      "source": [
        "## __Reseaux à convolutions__"
      ]
    },
    {
      "cell_type": "code",
      "metadata": {
        "id": "NR8fFfN_hKD6"
      },
      "source": [
        ""
      ],
      "execution_count": null,
      "outputs": []
    },
    {
      "cell_type": "code",
      "metadata": {
        "id": "xjTD9nKdhKD-",
        "colab": {
          "base_uri": "https://localhost:8080/",
          "height": 374
        },
        "outputId": "4414ebb7-f6c2-4b24-cee5-552d033cd420"
      },
      "source": [
        "from keras.models import Sequential\n",
        "from keras.layers import Dense, Conv1D, GlobalMaxPooling1D, Dropout, MaxPooling1D\n",
        "from keras.layers.embeddings import Embedding\n",
        "\n",
        "model_cnn = Sequential()\n",
        "\n",
        "model_cnn.add(Embedding(input_dim=max_fatures, output_dim=50,input_length = X.shape[1]))\n",
        "model_cnn.add(SpatialDropout1D(0.4))\n",
        "model_cnn.add(Conv1D(filters=100, kernel_size=4, padding='valid', activation='relu', strides=1))\n",
        "model_cnn.add(MaxPooling1D())\n",
        "model_cnn.add(LSTM(64))\n",
        "#model_cnn.add(Dense(32, activation='relu'))\n",
        "model_cnn.add(Dense(3, activation='sigmoid'))\n",
        "model_cnn.compile(loss='categorical_crossentropy', optimizer='adam', metrics=['accuracy'])\n",
        "print(model_cnn.summary())"
      ],
      "execution_count": null,
      "outputs": [
        {
          "output_type": "stream",
          "text": [
            "Model: \"sequential_15\"\n",
            "_________________________________________________________________\n",
            "Layer (type)                 Output Shape              Param #   \n",
            "=================================================================\n",
            "embedding_14 (Embedding)     (None, 36, 50)            703700    \n",
            "_________________________________________________________________\n",
            "spatial_dropout1d_3 (Spatial (None, 36, 50)            0         \n",
            "_________________________________________________________________\n",
            "conv1d_19 (Conv1D)           (None, 33, 100)           20100     \n",
            "_________________________________________________________________\n",
            "max_pooling1d_11 (MaxPooling (None, 16, 100)           0         \n",
            "_________________________________________________________________\n",
            "lstm_6 (LSTM)                (None, 64)                42240     \n",
            "_________________________________________________________________\n",
            "dense_12 (Dense)             (None, 3)                 195       \n",
            "=================================================================\n",
            "Total params: 766,235\n",
            "Trainable params: 766,235\n",
            "Non-trainable params: 0\n",
            "_________________________________________________________________\n",
            "None\n"
          ],
          "name": "stdout"
        }
      ]
    },
    {
      "cell_type": "code",
      "metadata": {
        "id": "0yl_6SKdhKEG",
        "colab": {
          "base_uri": "https://localhost:8080/",
          "height": 547
        },
        "outputId": "8c107566-a731-4c98-98d0-5d69bfd4a311"
      },
      "source": [
        "Xt, X_val, yt, y_val=train_test_split(X_train,y_train,stratify = y_train,random_state = 100,train_size=0.90)\n",
        "\n",
        "history_cnn = model_cnn.fit(Xt, yt ,validation_data=(X_val,y_val), epochs=5, batch_size=32, verbose=1)\n",
        "score,acc = model_cnn.evaluate(X_test, y_test, verbose = 1, batch_size = 32)\n",
        "print(\"score: %.2f\" % (score))\n",
        "print(\"acc: %.2f\" % (acc))"
      ],
      "execution_count": null,
      "outputs": [
        {
          "output_type": "stream",
          "text": [
            "/usr/local/lib/python3.6/dist-packages/tensorflow/python/framework/indexed_slices.py:434: UserWarning: Converting sparse IndexedSlices to a dense Tensor of unknown shape. This may consume a large amount of memory.\n",
            "  \"Converting sparse IndexedSlices to a dense Tensor of unknown shape. \"\n"
          ],
          "name": "stderr"
        },
        {
          "output_type": "stream",
          "text": [
            "Train on 78334 samples, validate on 8704 samples\n",
            "Epoch 1/5\n",
            "78334/78334 [==============================] - 69s 881us/step - loss: 0.6478 - accuracy: 0.7278 - val_loss: 0.5789 - val_accuracy: 0.7590\n",
            "Epoch 2/5\n",
            "78334/78334 [==============================] - 68s 869us/step - loss: 0.5421 - accuracy: 0.7790 - val_loss: 0.5700 - val_accuracy: 0.7653\n",
            "Epoch 3/5\n",
            " 8416/78334 [==>...........................] - ETA: 59s - loss: 0.4827 - accuracy: 0.8086"
          ],
          "name": "stdout"
        },
        {
          "output_type": "error",
          "ename": "KeyboardInterrupt",
          "evalue": "ignored",
          "traceback": [
            "\u001b[0;31m---------------------------------------------------------------------------\u001b[0m",
            "\u001b[0;31mKeyboardInterrupt\u001b[0m                         Traceback (most recent call last)",
            "\u001b[0;32m<ipython-input-64-d6ab742c73cd>\u001b[0m in \u001b[0;36m<module>\u001b[0;34m()\u001b[0m\n\u001b[1;32m      1\u001b[0m \u001b[0mXt\u001b[0m\u001b[0;34m,\u001b[0m \u001b[0mX_val\u001b[0m\u001b[0;34m,\u001b[0m \u001b[0myt\u001b[0m\u001b[0;34m,\u001b[0m \u001b[0my_val\u001b[0m\u001b[0;34m=\u001b[0m\u001b[0mtrain_test_split\u001b[0m\u001b[0;34m(\u001b[0m\u001b[0mX_train\u001b[0m\u001b[0;34m,\u001b[0m\u001b[0my_train\u001b[0m\u001b[0;34m,\u001b[0m\u001b[0mstratify\u001b[0m \u001b[0;34m=\u001b[0m \u001b[0my_train\u001b[0m\u001b[0;34m,\u001b[0m\u001b[0mrandom_state\u001b[0m \u001b[0;34m=\u001b[0m \u001b[0;36m100\u001b[0m\u001b[0;34m,\u001b[0m\u001b[0mtrain_size\u001b[0m\u001b[0;34m=\u001b[0m\u001b[0;36m0.90\u001b[0m\u001b[0;34m)\u001b[0m\u001b[0;34m\u001b[0m\u001b[0;34m\u001b[0m\u001b[0m\n\u001b[1;32m      2\u001b[0m \u001b[0;34m\u001b[0m\u001b[0m\n\u001b[0;32m----> 3\u001b[0;31m \u001b[0mhistory_cnn\u001b[0m \u001b[0;34m=\u001b[0m \u001b[0mmodel_cnn\u001b[0m\u001b[0;34m.\u001b[0m\u001b[0mfit\u001b[0m\u001b[0;34m(\u001b[0m\u001b[0mXt\u001b[0m\u001b[0;34m,\u001b[0m \u001b[0myt\u001b[0m \u001b[0;34m,\u001b[0m\u001b[0mvalidation_data\u001b[0m\u001b[0;34m=\u001b[0m\u001b[0;34m(\u001b[0m\u001b[0mX_val\u001b[0m\u001b[0;34m,\u001b[0m\u001b[0my_val\u001b[0m\u001b[0;34m)\u001b[0m\u001b[0;34m,\u001b[0m \u001b[0mepochs\u001b[0m\u001b[0;34m=\u001b[0m\u001b[0;36m5\u001b[0m\u001b[0;34m,\u001b[0m \u001b[0mbatch_size\u001b[0m\u001b[0;34m=\u001b[0m\u001b[0;36m32\u001b[0m\u001b[0;34m,\u001b[0m \u001b[0mverbose\u001b[0m\u001b[0;34m=\u001b[0m\u001b[0;36m1\u001b[0m\u001b[0;34m)\u001b[0m\u001b[0;34m\u001b[0m\u001b[0;34m\u001b[0m\u001b[0m\n\u001b[0m\u001b[1;32m      4\u001b[0m \u001b[0mscore\u001b[0m\u001b[0;34m,\u001b[0m\u001b[0macc\u001b[0m \u001b[0;34m=\u001b[0m \u001b[0mmodel_cnn\u001b[0m\u001b[0;34m.\u001b[0m\u001b[0mevaluate\u001b[0m\u001b[0;34m(\u001b[0m\u001b[0mX_test\u001b[0m\u001b[0;34m,\u001b[0m \u001b[0my_test\u001b[0m\u001b[0;34m,\u001b[0m \u001b[0mverbose\u001b[0m \u001b[0;34m=\u001b[0m \u001b[0;36m1\u001b[0m\u001b[0;34m,\u001b[0m \u001b[0mbatch_size\u001b[0m \u001b[0;34m=\u001b[0m \u001b[0;36m32\u001b[0m\u001b[0;34m)\u001b[0m\u001b[0;34m\u001b[0m\u001b[0;34m\u001b[0m\u001b[0m\n\u001b[1;32m      5\u001b[0m \u001b[0mprint\u001b[0m\u001b[0;34m(\u001b[0m\u001b[0;34m\"score: %.2f\"\u001b[0m \u001b[0;34m%\u001b[0m \u001b[0;34m(\u001b[0m\u001b[0mscore\u001b[0m\u001b[0;34m)\u001b[0m\u001b[0;34m)\u001b[0m\u001b[0;34m\u001b[0m\u001b[0;34m\u001b[0m\u001b[0m\n",
            "\u001b[0;32m/usr/local/lib/python3.6/dist-packages/keras/engine/training.py\u001b[0m in \u001b[0;36mfit\u001b[0;34m(self, x, y, batch_size, epochs, verbose, callbacks, validation_split, validation_data, shuffle, class_weight, sample_weight, initial_epoch, steps_per_epoch, validation_steps, validation_freq, max_queue_size, workers, use_multiprocessing, **kwargs)\u001b[0m\n\u001b[1;32m   1237\u001b[0m                                         \u001b[0msteps_per_epoch\u001b[0m\u001b[0;34m=\u001b[0m\u001b[0msteps_per_epoch\u001b[0m\u001b[0;34m,\u001b[0m\u001b[0;34m\u001b[0m\u001b[0;34m\u001b[0m\u001b[0m\n\u001b[1;32m   1238\u001b[0m                                         \u001b[0mvalidation_steps\u001b[0m\u001b[0;34m=\u001b[0m\u001b[0mvalidation_steps\u001b[0m\u001b[0;34m,\u001b[0m\u001b[0;34m\u001b[0m\u001b[0;34m\u001b[0m\u001b[0m\n\u001b[0;32m-> 1239\u001b[0;31m                                         validation_freq=validation_freq)\n\u001b[0m\u001b[1;32m   1240\u001b[0m \u001b[0;34m\u001b[0m\u001b[0m\n\u001b[1;32m   1241\u001b[0m     def evaluate(self,\n",
            "\u001b[0;32m/usr/local/lib/python3.6/dist-packages/keras/engine/training_arrays.py\u001b[0m in \u001b[0;36mfit_loop\u001b[0;34m(model, fit_function, fit_inputs, out_labels, batch_size, epochs, verbose, callbacks, val_function, val_inputs, shuffle, initial_epoch, steps_per_epoch, validation_steps, validation_freq)\u001b[0m\n\u001b[1;32m    194\u001b[0m                     \u001b[0mins_batch\u001b[0m\u001b[0;34m[\u001b[0m\u001b[0mi\u001b[0m\u001b[0;34m]\u001b[0m \u001b[0;34m=\u001b[0m \u001b[0mins_batch\u001b[0m\u001b[0;34m[\u001b[0m\u001b[0mi\u001b[0m\u001b[0;34m]\u001b[0m\u001b[0;34m.\u001b[0m\u001b[0mtoarray\u001b[0m\u001b[0;34m(\u001b[0m\u001b[0;34m)\u001b[0m\u001b[0;34m\u001b[0m\u001b[0;34m\u001b[0m\u001b[0m\n\u001b[1;32m    195\u001b[0m \u001b[0;34m\u001b[0m\u001b[0m\n\u001b[0;32m--> 196\u001b[0;31m                 \u001b[0mouts\u001b[0m \u001b[0;34m=\u001b[0m \u001b[0mfit_function\u001b[0m\u001b[0;34m(\u001b[0m\u001b[0mins_batch\u001b[0m\u001b[0;34m)\u001b[0m\u001b[0;34m\u001b[0m\u001b[0;34m\u001b[0m\u001b[0m\n\u001b[0m\u001b[1;32m    197\u001b[0m                 \u001b[0mouts\u001b[0m \u001b[0;34m=\u001b[0m \u001b[0mto_list\u001b[0m\u001b[0;34m(\u001b[0m\u001b[0mouts\u001b[0m\u001b[0;34m)\u001b[0m\u001b[0;34m\u001b[0m\u001b[0;34m\u001b[0m\u001b[0m\n\u001b[1;32m    198\u001b[0m                 \u001b[0;32mfor\u001b[0m \u001b[0ml\u001b[0m\u001b[0;34m,\u001b[0m \u001b[0mo\u001b[0m \u001b[0;32min\u001b[0m \u001b[0mzip\u001b[0m\u001b[0;34m(\u001b[0m\u001b[0mout_labels\u001b[0m\u001b[0;34m,\u001b[0m \u001b[0mouts\u001b[0m\u001b[0;34m)\u001b[0m\u001b[0;34m:\u001b[0m\u001b[0;34m\u001b[0m\u001b[0;34m\u001b[0m\u001b[0m\n",
            "\u001b[0;32m/usr/local/lib/python3.6/dist-packages/tensorflow/python/keras/backend.py\u001b[0m in \u001b[0;36m__call__\u001b[0;34m(self, inputs)\u001b[0m\n\u001b[1;32m   3790\u001b[0m         \u001b[0mvalue\u001b[0m \u001b[0;34m=\u001b[0m \u001b[0mmath_ops\u001b[0m\u001b[0;34m.\u001b[0m\u001b[0mcast\u001b[0m\u001b[0;34m(\u001b[0m\u001b[0mvalue\u001b[0m\u001b[0;34m,\u001b[0m \u001b[0mtensor\u001b[0m\u001b[0;34m.\u001b[0m\u001b[0mdtype\u001b[0m\u001b[0;34m)\u001b[0m\u001b[0;34m\u001b[0m\u001b[0;34m\u001b[0m\u001b[0m\n\u001b[1;32m   3791\u001b[0m       \u001b[0mconverted_inputs\u001b[0m\u001b[0;34m.\u001b[0m\u001b[0mappend\u001b[0m\u001b[0;34m(\u001b[0m\u001b[0mvalue\u001b[0m\u001b[0;34m)\u001b[0m\u001b[0;34m\u001b[0m\u001b[0;34m\u001b[0m\u001b[0m\n\u001b[0;32m-> 3792\u001b[0;31m     \u001b[0moutputs\u001b[0m \u001b[0;34m=\u001b[0m \u001b[0mself\u001b[0m\u001b[0;34m.\u001b[0m\u001b[0m_graph_fn\u001b[0m\u001b[0;34m(\u001b[0m\u001b[0;34m*\u001b[0m\u001b[0mconverted_inputs\u001b[0m\u001b[0;34m)\u001b[0m\u001b[0;34m\u001b[0m\u001b[0;34m\u001b[0m\u001b[0m\n\u001b[0m\u001b[1;32m   3793\u001b[0m \u001b[0;34m\u001b[0m\u001b[0m\n\u001b[1;32m   3794\u001b[0m     \u001b[0;31m# EagerTensor.numpy() will often make a copy to ensure memory safety.\u001b[0m\u001b[0;34m\u001b[0m\u001b[0;34m\u001b[0m\u001b[0;34m\u001b[0m\u001b[0m\n",
            "\u001b[0;32m/usr/local/lib/python3.6/dist-packages/tensorflow/python/eager/function.py\u001b[0m in \u001b[0;36m__call__\u001b[0;34m(self, *args, **kwargs)\u001b[0m\n\u001b[1;32m   1603\u001b[0m       \u001b[0mTypeError\u001b[0m\u001b[0;34m:\u001b[0m \u001b[0mFor\u001b[0m \u001b[0minvalid\u001b[0m \u001b[0mpositional\u001b[0m\u001b[0;34m/\u001b[0m\u001b[0mkeyword\u001b[0m \u001b[0margument\u001b[0m \u001b[0mcombinations\u001b[0m\u001b[0;34m.\u001b[0m\u001b[0;34m\u001b[0m\u001b[0;34m\u001b[0m\u001b[0m\n\u001b[1;32m   1604\u001b[0m     \"\"\"\n\u001b[0;32m-> 1605\u001b[0;31m     \u001b[0;32mreturn\u001b[0m \u001b[0mself\u001b[0m\u001b[0;34m.\u001b[0m\u001b[0m_call_impl\u001b[0m\u001b[0;34m(\u001b[0m\u001b[0margs\u001b[0m\u001b[0;34m,\u001b[0m \u001b[0mkwargs\u001b[0m\u001b[0;34m)\u001b[0m\u001b[0;34m\u001b[0m\u001b[0;34m\u001b[0m\u001b[0m\n\u001b[0m\u001b[1;32m   1606\u001b[0m \u001b[0;34m\u001b[0m\u001b[0m\n\u001b[1;32m   1607\u001b[0m   \u001b[0;32mdef\u001b[0m \u001b[0m_call_impl\u001b[0m\u001b[0;34m(\u001b[0m\u001b[0mself\u001b[0m\u001b[0;34m,\u001b[0m \u001b[0margs\u001b[0m\u001b[0;34m,\u001b[0m \u001b[0mkwargs\u001b[0m\u001b[0;34m,\u001b[0m \u001b[0mcancellation_manager\u001b[0m\u001b[0;34m=\u001b[0m\u001b[0;32mNone\u001b[0m\u001b[0;34m)\u001b[0m\u001b[0;34m:\u001b[0m\u001b[0;34m\u001b[0m\u001b[0;34m\u001b[0m\u001b[0m\n",
            "\u001b[0;32m/usr/local/lib/python3.6/dist-packages/tensorflow/python/eager/function.py\u001b[0m in \u001b[0;36m_call_impl\u001b[0;34m(self, args, kwargs, cancellation_manager)\u001b[0m\n\u001b[1;32m   1643\u001b[0m       raise TypeError(\"Keyword arguments {} unknown. Expected {}.\".format(\n\u001b[1;32m   1644\u001b[0m           list(kwargs.keys()), list(self._arg_keywords)))\n\u001b[0;32m-> 1645\u001b[0;31m     \u001b[0;32mreturn\u001b[0m \u001b[0mself\u001b[0m\u001b[0;34m.\u001b[0m\u001b[0m_call_flat\u001b[0m\u001b[0;34m(\u001b[0m\u001b[0margs\u001b[0m\u001b[0;34m,\u001b[0m \u001b[0mself\u001b[0m\u001b[0;34m.\u001b[0m\u001b[0mcaptured_inputs\u001b[0m\u001b[0;34m,\u001b[0m \u001b[0mcancellation_manager\u001b[0m\u001b[0;34m)\u001b[0m\u001b[0;34m\u001b[0m\u001b[0;34m\u001b[0m\u001b[0m\n\u001b[0m\u001b[1;32m   1646\u001b[0m \u001b[0;34m\u001b[0m\u001b[0m\n\u001b[1;32m   1647\u001b[0m   \u001b[0;32mdef\u001b[0m \u001b[0m_filtered_call\u001b[0m\u001b[0;34m(\u001b[0m\u001b[0mself\u001b[0m\u001b[0;34m,\u001b[0m \u001b[0margs\u001b[0m\u001b[0;34m,\u001b[0m \u001b[0mkwargs\u001b[0m\u001b[0;34m)\u001b[0m\u001b[0;34m:\u001b[0m\u001b[0;34m\u001b[0m\u001b[0;34m\u001b[0m\u001b[0m\n",
            "\u001b[0;32m/usr/local/lib/python3.6/dist-packages/tensorflow/python/eager/function.py\u001b[0m in \u001b[0;36m_call_flat\u001b[0;34m(self, args, captured_inputs, cancellation_manager)\u001b[0m\n\u001b[1;32m   1744\u001b[0m       \u001b[0;31m# No tape is watching; skip to running the function.\u001b[0m\u001b[0;34m\u001b[0m\u001b[0;34m\u001b[0m\u001b[0;34m\u001b[0m\u001b[0m\n\u001b[1;32m   1745\u001b[0m       return self._build_call_outputs(self._inference_function.call(\n\u001b[0;32m-> 1746\u001b[0;31m           ctx, args, cancellation_manager=cancellation_manager))\n\u001b[0m\u001b[1;32m   1747\u001b[0m     forward_backward = self._select_forward_and_backward_functions(\n\u001b[1;32m   1748\u001b[0m         \u001b[0margs\u001b[0m\u001b[0;34m,\u001b[0m\u001b[0;34m\u001b[0m\u001b[0;34m\u001b[0m\u001b[0m\n",
            "\u001b[0;32m/usr/local/lib/python3.6/dist-packages/tensorflow/python/eager/function.py\u001b[0m in \u001b[0;36mcall\u001b[0;34m(self, ctx, args, cancellation_manager)\u001b[0m\n\u001b[1;32m    596\u001b[0m               \u001b[0minputs\u001b[0m\u001b[0;34m=\u001b[0m\u001b[0margs\u001b[0m\u001b[0;34m,\u001b[0m\u001b[0;34m\u001b[0m\u001b[0;34m\u001b[0m\u001b[0m\n\u001b[1;32m    597\u001b[0m               \u001b[0mattrs\u001b[0m\u001b[0;34m=\u001b[0m\u001b[0mattrs\u001b[0m\u001b[0;34m,\u001b[0m\u001b[0;34m\u001b[0m\u001b[0;34m\u001b[0m\u001b[0m\n\u001b[0;32m--> 598\u001b[0;31m               ctx=ctx)\n\u001b[0m\u001b[1;32m    599\u001b[0m         \u001b[0;32melse\u001b[0m\u001b[0;34m:\u001b[0m\u001b[0;34m\u001b[0m\u001b[0;34m\u001b[0m\u001b[0m\n\u001b[1;32m    600\u001b[0m           outputs = execute.execute_with_cancellation(\n",
            "\u001b[0;32m/usr/local/lib/python3.6/dist-packages/tensorflow/python/eager/execute.py\u001b[0m in \u001b[0;36mquick_execute\u001b[0;34m(op_name, num_outputs, inputs, attrs, ctx, name)\u001b[0m\n\u001b[1;32m     58\u001b[0m     \u001b[0mctx\u001b[0m\u001b[0;34m.\u001b[0m\u001b[0mensure_initialized\u001b[0m\u001b[0;34m(\u001b[0m\u001b[0;34m)\u001b[0m\u001b[0;34m\u001b[0m\u001b[0;34m\u001b[0m\u001b[0m\n\u001b[1;32m     59\u001b[0m     tensors = pywrap_tfe.TFE_Py_Execute(ctx._handle, device_name, op_name,\n\u001b[0;32m---> 60\u001b[0;31m                                         inputs, attrs, num_outputs)\n\u001b[0m\u001b[1;32m     61\u001b[0m   \u001b[0;32mexcept\u001b[0m \u001b[0mcore\u001b[0m\u001b[0;34m.\u001b[0m\u001b[0m_NotOkStatusException\u001b[0m \u001b[0;32mas\u001b[0m \u001b[0me\u001b[0m\u001b[0;34m:\u001b[0m\u001b[0;34m\u001b[0m\u001b[0;34m\u001b[0m\u001b[0m\n\u001b[1;32m     62\u001b[0m     \u001b[0;32mif\u001b[0m \u001b[0mname\u001b[0m \u001b[0;32mis\u001b[0m \u001b[0;32mnot\u001b[0m \u001b[0;32mNone\u001b[0m\u001b[0;34m:\u001b[0m\u001b[0;34m\u001b[0m\u001b[0;34m\u001b[0m\u001b[0m\n",
            "\u001b[0;31mKeyboardInterrupt\u001b[0m: "
          ]
        }
      ]
    },
    {
      "cell_type": "code",
      "metadata": {
        "id": "0D5PBQ-yhKEN",
        "colab": {
          "base_uri": "https://localhost:8080/",
          "height": 573
        },
        "outputId": "7f96f513-d598-4a76-a87a-e08ba64a8ab8"
      },
      "source": [
        "from matplotlib import pyplot as plt \n",
        "\n",
        "# Plot training & validation accuracy values\n",
        "plt.plot(history_cnn.history['accuracy'])\n",
        "plt.plot(history_cnn.history['val_accuracy'])\n",
        "plt.title('Model accuracy')\n",
        "plt.ylabel('Accuracy')\n",
        "plt.xlabel('Epoch')\n",
        "plt.legend(['Train', 'Test'], loc='upper left')\n",
        "plt.show()\n",
        "\n",
        "# Plot training & validation loss values\n",
        "plt.plot(history_cnn.history['loss'])\n",
        "plt.plot(history_cnn.history['val_loss'])\n",
        "plt.title('Model loss')\n",
        "plt.ylabel('Loss')\n",
        "plt.xlabel('Epoch')\n",
        "plt.legend(['Train', 'Test'], loc='upper left')\n",
        "plt.show()"
      ],
      "execution_count": null,
      "outputs": [
        {
          "output_type": "display_data",
          "data": {
            "image/png": "[encoded data removed]",
            "text/plain": [
              "<Figure size 432x288 with 1 Axes>"
            ]
          },
          "metadata": {
            "tags": [],
            "needs_background": "light"
          }
        },
        {
          "output_type": "display_data",
          "data": {
            "image/png": "[encoded data removed]",
            "text/plain": [
              "<Figure size 432x288 with 1 Axes>"
            ]
          },
          "metadata": {
            "tags": [],
            "needs_background": "light"
          }
        }
      ]
    },
    {
      "cell_type": "code",
      "metadata": {
        "id": "fe254E38rZnW",
        "colab": {
          "base_uri": "https://localhost:8080/",
          "height": 374
        },
        "outputId": "f8e478c0-f1c4-40ff-b125-25c7b6389608"
      },
      "source": [
        "from keras.models import Sequential\n",
        "from keras.layers import Dense, Conv1D, GlobalMaxPooling1D, Dropout, MaxPooling1D\n",
        "from keras.layers.embeddings import Embedding\n",
        "\n",
        "model_cnn = Sequential()\n",
        "\n",
        "model_cnn.add(Embedding(input_dim=max_fatures, output_dim=50,input_length = X.shape[1]))\n",
        "model_cnn.add(SpatialDropout1D(0.6))\n",
        "model_cnn.add(Conv1D(filters=50, kernel_size=2, padding='valid', activation='relu', strides=1))\n",
        "model_cnn.add(GlobalMaxPooling1D())\n",
        "\"\"\"model_cnn.add(Conv1D(filters=100, kernel_size=4, padding='valid', activation='relu', strides=1))\n",
        "model_cnn.add(GlobalMaxPooling1D())\n",
        "model_cnn.add(LSTM(128, dropout=0.2, recurrent_dropout=0.2))\"\"\"\n",
        "model_cnn.add(Dense(64, activation='relu'))\n",
        "model_cnn.add(Dense(3, activation='sigmoid'))\n",
        "model_cnn.compile(loss='categorical_crossentropy', optimizer='adam', metrics=['accuracy'])\n",
        "print(model_cnn.summary())"
      ],
      "execution_count": null,
      "outputs": [
        {
          "output_type": "stream",
          "text": [
            "Model: \"sequential_20\"\n",
            "_________________________________________________________________\n",
            "Layer (type)                 Output Shape              Param #   \n",
            "=================================================================\n",
            "embedding_19 (Embedding)     (None, 36, 50)            703700    \n",
            "_________________________________________________________________\n",
            "spatial_dropout1d_8 (Spatial (None, 36, 50)            0         \n",
            "_________________________________________________________________\n",
            "conv1d_23 (Conv1D)           (None, 35, 50)            5050      \n",
            "_________________________________________________________________\n",
            "global_max_pooling1d_11 (Glo (None, 50)                0         \n",
            "_________________________________________________________________\n",
            "dense_19 (Dense)             (None, 64)                3264      \n",
            "_________________________________________________________________\n",
            "dense_20 (Dense)             (None, 3)                 195       \n",
            "=================================================================\n",
            "Total params: 712,209\n",
            "Trainable params: 712,209\n",
            "Non-trainable params: 0\n",
            "_________________________________________________________________\n",
            "None\n"
          ],
          "name": "stdout"
        }
      ]
    },
    {
      "cell_type": "code",
      "metadata": {
        "id": "UxSnx4-VsInP",
        "colab": {
          "base_uri": "https://localhost:8080/",
          "height": 241
        },
        "outputId": "ba30c302-b96d-4f88-b054-6a180550a5b5"
      },
      "source": [
        "Xt, X_val, yt, y_val=train_test_split(X_train,y_train,stratify = y_train,random_state = 100,train_size=0.90)\n",
        "\n",
        "history_cnn = model_cnn.fit(Xt, yt ,validation_data=(X_val,y_val), epochs=3, batch_size=32, verbose=1)\n",
        "score,acc = model_cnn.evaluate(X_test, y_test, verbose = 1, batch_size = 32)\n",
        "print(\"score: %.2f\" % (score))\n",
        "print(\"acc: %.2f\" % (acc))"
      ],
      "execution_count": null,
      "outputs": [
        {
          "output_type": "stream",
          "text": [
            "/usr/local/lib/python3.6/dist-packages/tensorflow/python/framework/indexed_slices.py:434: UserWarning: Converting sparse IndexedSlices to a dense Tensor of unknown shape. This may consume a large amount of memory.\n",
            "  \"Converting sparse IndexedSlices to a dense Tensor of unknown shape. \"\n"
          ],
          "name": "stderr"
        },
        {
          "output_type": "stream",
          "text": [
            "Train on 78334 samples, validate on 8704 samples\n",
            "Epoch 1/3\n",
            "78334/78334 [==============================] - 27s 343us/step - loss: 0.6028 - accuracy: 0.7639 - val_loss: 0.5020 - val_accuracy: 0.8124\n",
            "Epoch 2/3\n",
            "78334/78334 [==============================] - 27s 342us/step - loss: 0.4744 - accuracy: 0.8212 - val_loss: 0.4764 - val_accuracy: 0.8153\n",
            "Epoch 3/3\n",
            "78334/78334 [==============================] - 27s 341us/step - loss: 0.4394 - accuracy: 0.8333 - val_loss: 0.4879 - val_accuracy: 0.8131\n",
            "37303/37303 [==============================] - 2s 44us/step\n",
            "score: 0.48\n",
            "acc: 0.82\n"
          ],
          "name": "stdout"
        }
      ]
    },
    {
      "cell_type": "code",
      "metadata": {
        "id": "zPl_4DkcraU5",
        "colab": {
          "base_uri": "https://localhost:8080/",
          "height": 573
        },
        "outputId": "7ad05630-d59a-4311-98a0-ebc0bb8aad35"
      },
      "source": [
        "from matplotlib import pyplot as plt \n",
        "\n",
        "# Plot training & validation accuracy values\n",
        "plt.plot(history_cnn.history['accuracy'])\n",
        "plt.plot(history_cnn.history['val_accuracy'])\n",
        "plt.title('Model accuracy')\n",
        "plt.ylabel('Accuracy')\n",
        "plt.xlabel('Epoch')\n",
        "plt.legend(['Train', 'Test'], loc='upper left')\n",
        "plt.show()\n",
        "\n",
        "# Plot training & validation loss values\n",
        "plt.plot(history_cnn.history['loss'])\n",
        "plt.plot(history_cnn.history['val_loss'])\n",
        "plt.title('Model loss')\n",
        "plt.ylabel('Loss')\n",
        "plt.xlabel('Epoch')\n",
        "plt.legend(['Train', 'Test'], loc='upper left')\n",
        "plt.show()"
      ],
      "execution_count": null,
      "outputs": [
        {
          "output_type": "display_data",
          "data": {
            "image/png": "[encoded data removed]",
            "text/plain": [
              "<Figure size 432x288 with 1 Axes>"
            ]
          },
          "metadata": {
            "tags": [],
            "needs_background": "light"
          }
        },
        {
          "output_type": "display_data",
          "data": {
            "image/png": "[encoded data removed]",
            "text/plain": [
              "<Figure size 432x288 with 1 Axes>"
            ]
          },
          "metadata": {
            "tags": [],
            "needs_background": "light"
          }
        }
      ]
    },
    {
      "cell_type": "code",
      "metadata": {
        "id": "C9sI5CfLrZhG",
        "colab": {
          "base_uri": "https://localhost:8080/",
          "height": 51
        },
        "outputId": "65930ce6-7bd8-4dca-eb93-ca00c8423ad7"
      },
      "source": [
        "model_cnn.evaluate(X_test, y_test, verbose = 1, batch_size = 32)"
      ],
      "execution_count": null,
      "outputs": [
        {
          "output_type": "stream",
          "text": [
            "37303/37303 [==============================] - 2s 47us/step\n"
          ],
          "name": "stdout"
        },
        {
          "output_type": "execute_result",
          "data": {
            "text/plain": [
              "[0.5103019002693299, 0.8133394122123718]"
            ]
          },
          "metadata": {
            "tags": []
          },
          "execution_count": 80
        }
      ]
    },
    {
      "cell_type": "markdown",
      "metadata": {
        "id": "rTW887dthKEb"
      },
      "source": [
        "##### Evaluation SVM "
      ]
    },
    {
      "cell_type": "code",
      "metadata": {
        "id": "UCl7aHVlhKEc"
      },
      "source": [
        "\n",
        "predictions_SVM.filter(predictions_SVM['prediction'] == 0) \\\n",
        "    .select(\"label\",\"prediction\") \\\n",
        "    .show(n = 10, truncate = 30)"
      ],
      "execution_count": null,
      "outputs": []
    },
    {
      "cell_type": "code",
      "metadata": {
        "id": "SVvzIFD3hKEg"
      },
      "source": [
        "from sklearn.metrics import confusion_matrix, f1_score\n",
        "\n",
        "predictions_SVM = lsvcModel.transform(testData)\n",
        "predictions_SVMDF = predictions_SVM.toPandas()\n",
        "\n",
        "y_predsvm = predictions_SVMDF.prediction\n",
        "y_truesvm = predictions_SVMDF.label\n",
        "\n"
      ],
      "execution_count": null,
      "outputs": []
    },
    {
      "cell_type": "code",
      "metadata": {
        "id": "vWY8pz4nhKEn"
      },
      "source": [
        "confusion_matrix(y_pred= y_predsvm , y_true = y_truesvm,labels=[2.0,1.0,0.0])\n"
      ],
      "execution_count": null,
      "outputs": []
    },
    {
      "cell_type": "code",
      "metadata": {
        "id": "F6sTC_8JhKEv"
      },
      "source": [
        "f1Score = f1_score(y_truesvm, y_predsvm,average=\"macro\")\n",
        "precision = accuracy_score(y_pred=y_predsvm,y_true=y_truesvm)\n",
        "print(\"Summary Stats\")\n",
        "print(\"Precision = %s\" % precision)\n",
        "#print(\"Recall = %s\" % recall)\n",
        "print(\"F1 Score = %s\" % f1Score)"
      ],
      "execution_count": null,
      "outputs": []
    },
    {
      "cell_type": "code",
      "metadata": {
        "id": "jdV_TpNHhKE2"
      },
      "source": [
        ""
      ],
      "execution_count": null,
      "outputs": []
    },
    {
      "cell_type": "markdown",
      "metadata": {
        "id": "OEdF-b2mhKE-"
      },
      "source": [
        "##### Cross-Validation"
      ]
    },
    {
      "cell_type": "code",
      "metadata": {
        "id": "2BLQdC7xhKFA"
      },
      "source": [
        "from pyspark.ml.evaluation import MulticlassClassificationEvaluator\n",
        "\n",
        "pipeline = Pipeline(stages=[regexTokenizer, stopwordsRemover, countVectors, label_stringIdx])\n",
        "\n",
        "pipelineFit = pipeline.fit(df2)\n",
        "dataset = pipelineFit.transform(df2)\n",
        "(trainingData, testData) = dataset.randomSplit([0.7, 0.3], seed = 100)\n",
        "\n",
        "# Build the model\n",
        "lr = LogisticRegression(maxIter=20, regParam=0.3, elasticNetParam=0)\n",
        "\n",
        "evaluator = MulticlassClassificationEvaluator(labelCol=\"label\", predictionCol=\"prediction\", metricName=\"f1\")\n",
        "from pyspark.ml.tuning import ParamGridBuilder, CrossValidator\n",
        "\n",
        "# Create ParamGrid for Cross Validation\n",
        "paramGrid = (ParamGridBuilder()\n",
        "             .addGrid(lr.regParam, [0.1, 0.3, 0.5,1]) # regularization parameter\n",
        "             .addGrid(lr.elasticNetParam, [0.0, 0.1, 0.2]) # Elastic Net Parameter (Ridge = 0)\n",
        "#            .addGrid(model.maxIter, [10, 20, 50]) #Number of iterations\n",
        "#            .addGrid(idf.numFeatures, [10, 100, 1000]) # Number of features\n",
        "             .build())\n",
        "\n",
        "# Create 5-fold CrossValidator\n",
        "cv = CrossValidator(estimator=lr, \\\n",
        "                    estimatorParamMaps=paramGrid, \\\n",
        "                    evaluator=evaluator, \\\n",
        "                    numFolds=5)\n",
        "\n",
        "# Run cross validations\n",
        "cvModel = cv.fit(trainingData)\n",
        "# this will likely take a fair amount of time because of the amount of models that we're creating and testing\n",
        "\n",
        "# Use test set here so we can measure the accuracy of our model on new data\n",
        "predictions = cvModel.transform(testData)\n",
        "\n",
        "# cvModel uses the best model found from the Cross Validation\n",
        "# Evaluate best model\n",
        "evaluatorcv = MulticlassClassificationEvaluator(labelCol=\"label\", predictionCol=\"prediction\", metricName=\"f1\")\n",
        "evaluatorcv.evaluate(predictions)"
      ],
      "execution_count": null,
      "outputs": []
    },
    {
      "cell_type": "markdown",
      "metadata": {
        "id": "Tq-8WDmPhKFN"
      },
      "source": [
        "##### Sauvegarde de la pipeline de preprocessing"
      ]
    },
    {
      "cell_type": "code",
      "metadata": {
        "id": "7XqKi6txhKFN"
      },
      "source": [
        "#preprocessingPipeline = pipelineFit.save(path=\"preprocessingPipeline\")"
      ],
      "execution_count": null,
      "outputs": []
    },
    {
      "cell_type": "markdown",
      "metadata": {
        "id": "W_AGvm7GhKFS"
      },
      "source": [
        "##### Sauvegarde du modele"
      ]
    },
    {
      "cell_type": "code",
      "metadata": {
        "id": "fFtKNzw_hKFT"
      },
      "source": [
        "cvModel.write().overwrite().save(path=\"filRougeModel\")"
      ],
      "execution_count": null,
      "outputs": []
    },
    {
      "cell_type": "code",
      "metadata": {
        "id": "mxXT6MtzhKFa"
      },
      "source": [
        ""
      ],
      "execution_count": null,
      "outputs": []
    },
    {
      "cell_type": "code",
      "metadata": {
        "id": "uD3c3eVkhKFi"
      },
      "source": [
        "cvModel = CrossValidatorModel.load(path=\"filRougeModel\")\n",
        "predictions = cvModel.transform(testData)\n"
      ],
      "execution_count": null,
      "outputs": []
    },
    {
      "cell_type": "markdown",
      "metadata": {
        "id": "nyzb7NIGhKFo"
      },
      "source": [
        "### Evaluation"
      ]
    },
    {
      "cell_type": "markdown",
      "metadata": {
        "id": "hs64XJNjhKFq"
      },
      "source": [
        "__Rappel__\n",
        "\n",
        "2 -> -1 (tweet negatif)\n",
        "\n",
        "1 -> 0  (tweet neutres)\n",
        "\n",
        "0 -> 1  (tweet positif)"
      ]
    },
    {
      "cell_type": "markdown",
      "metadata": {
        "id": "Sap2Ikk9hKFs"
      },
      "source": [
        "__Matrice de confusion__"
      ]
    },
    {
      "cell_type": "code",
      "metadata": {
        "id": "SN3SUbbdhKFv"
      },
      "source": [
        "from sklearn.metrics import confusion_matrix\n",
        "\n",
        "predictionDF = predictions.toPandas()\n",
        "y_pred = predictionDF.prediction\n",
        "y_true = predictionDF.label\n",
        "confusion_matrix(y_pred= y_pred , y_true = y_true,labels=[2.0,1.0,0.0])"
      ],
      "execution_count": null,
      "outputs": []
    },
    {
      "cell_type": "markdown",
      "metadata": {
        "id": "sFg66I3JhKF3"
      },
      "source": [
        "__Evaluation quantitative : Score F1 / sensibilité / precision__"
      ]
    },
    {
      "cell_type": "code",
      "metadata": {
        "id": "-MqdTv7AhKF4"
      },
      "source": [
        "from sklearn.metrics import f1_score,recall_score,accuracy_score\n",
        "\n",
        "\n",
        "#precision = metrics.precision()\n",
        "#recall = metrics.recall()\n",
        "f1Score = f1_score(y_true, y_pred,average=\"macro\")\n",
        "precision = accuracy_score(y_true=y_true,y_pred=y_pred)\n",
        "recall = recall_score(y_true=y_true,y_pred=y_pred,average=\"macro\")\n",
        "\n",
        "print(\"Summary Stats\")\n",
        "print(\"Precision = %s\" % precision)\n",
        "print(\"Recall = %s\" % recall)\n",
        "print(\"F1 Score = %s\" % f1Score)"
      ],
      "execution_count": null,
      "outputs": []
    },
    {
      "cell_type": "markdown",
      "metadata": {
        "id": "PuGTYJHfhKGC"
      },
      "source": [
        "__Comparaison des scores F1 pondérés au non pondérés__"
      ]
    },
    {
      "cell_type": "code",
      "metadata": {
        "id": "0YwfJSwphKGD"
      },
      "source": [
        "from sklearn.metrics import classification_report\n",
        "\n",
        "print(classification_report(y_true,y_pred))\n"
      ],
      "execution_count": null,
      "outputs": []
    },
    {
      "cell_type": "code",
      "metadata": {
        "id": "Xa4MKW_6hKGL"
      },
      "source": [
        ""
      ],
      "execution_count": null,
      "outputs": []
    },
    {
      "cell_type": "markdown",
      "metadata": {
        "id": "fPjXu2wShKGR"
      },
      "source": [
        "### Explication du modèle, Feature importance, F1-score par label"
      ]
    },
    {
      "cell_type": "code",
      "metadata": {
        "id": "d26LXoqkhKGS"
      },
      "source": [
        "cvModel.bestModel.coefficientMatrix"
      ],
      "execution_count": null,
      "outputs": []
    },
    {
      "cell_type": "code",
      "metadata": {
        "id": "nS31CzCZhKGY"
      },
      "source": [
        "feature_to_coef1,feature_to_coef2, feature_to_coef3 = {},{},{}\n",
        "#vocabArray = pipelineFit.stages[2].vocabulary\n",
        "\n",
        "for j in range(3):\n",
        "    for f in range (cvModel.bestModel.numFeatures):\n",
        "        if j == 0 :\n",
        "            coef = cvModel.bestModel.coefficientMatrix[j,f]\n",
        "            feature_to_coef1[vocabArray[f]] = coef\n",
        "        if j == 1 :\n",
        "            coef = cvModel.bestModel.coefficientMatrix[j,f]\n",
        "            feature_to_coef2[vocabArray[f]] = coef \n",
        "        \"\"\"if j == 2 :\n",
        "            coef = cvModel.bestModel.coefficientMatrix[j,f]\n",
        "            feature_to_coef3[vocabArray[f]] = coef \"\"\""
      ],
      "execution_count": null,
      "outputs": []
    },
    {
      "cell_type": "markdown",
      "metadata": {
        "id": "cIcc-ev4hKGf"
      },
      "source": [
        "##### Sauvegarde "
      ]
    },
    {
      "cell_type": "code",
      "metadata": {
        "id": "YO2Kuxt6hKGg"
      },
      "source": [
        "import json\n",
        "\n",
        "\"\"\"with open('FeatureImportanceFilRougeClass2.json', 'w') as fp:\n",
        "    json.dump(feature_to_coef, fp)\"\"\"\n",
        "with open('FeatureImportanceFilRougeClass0.json', 'w') as fp:\n",
        "    json.dump(feature_to_coef1, fp)\n",
        "with open('FeatureImportanceFilRougeClass1.json', 'w') as fp:\n",
        "    json.dump(feature_to_coef2, fp)"
      ],
      "execution_count": null,
      "outputs": []
    },
    {
      "cell_type": "markdown",
      "metadata": {
        "id": "M_iaagPbhKGp"
      },
      "source": [
        "##### Chargement "
      ]
    },
    {
      "cell_type": "code",
      "metadata": {
        "id": "a9trZPBfhKGq"
      },
      "source": [
        "import json\n",
        "\n",
        "with open('FeatureImportanceFilRougeClass2.json', 'r') as fp:\n",
        "    feature_to_coef = json.load(fp)\n",
        "with open('FeatureImportanceFilRougeClass0.json', 'r') as fp:\n",
        "    feature_to_coef1=json.load(fp)\n",
        "with open('FeatureImportanceFilRougeClass1.json', 'r') as fp:\n",
        "    feature_to_coef2 = json.load(fp)"
      ],
      "execution_count": null,
      "outputs": []
    },
    {
      "cell_type": "code",
      "metadata": {
        "id": "NMqHCvG_hKG6"
      },
      "source": [
        "topPositiveWord = sorted(feature_to_coef1.items(), \n",
        "                        key=lambda x: (x[1]), \n",
        "                        reverse=True)[:20]\n",
        "\n",
        "topNegativeWord = sorted(feature_to_coef.items(), \n",
        "                        key=lambda x: (x[1]), \n",
        "                        reverse=True)[:20]\n",
        "\n",
        "topNeutralWord = sorted(feature_to_coef2.items(), \n",
        "                        key=lambda x: (x[1]), \n",
        "                        reverse=True)[:20]\n",
        "\n",
        "\n",
        "print(\"Les mots les plus negatifs \\n\")\n",
        "\n",
        "for highest_negatives in sorted(\n",
        "    feature_to_coef.items(), \n",
        "    key=lambda x: (x[1]), \n",
        "    reverse=True)[:20]:\n",
        "    print (highest_negatives)\n",
        "\n",
        "print(\"Les mots les plus positifs \\n\")\n",
        "for highest_negatives in sorted(\n",
        "    feature_to_coef1.items(), \n",
        "    key=lambda x: (x[1]), \n",
        "    reverse=True)[:20]:\n",
        "    print (highest_negatives)\n",
        "    \n",
        "print(\"Les mots les plus neutres \\n\")\n",
        "for highest_negatives in sorted(\n",
        "    feature_to_coef2.items(), \n",
        "    key=lambda x: (x[1]), \n",
        "    reverse=True)[:20]:\n",
        "    print (highest_negatives)"
      ],
      "execution_count": null,
      "outputs": []
    },
    {
      "cell_type": "markdown",
      "metadata": {
        "id": "eb5Uy97ZhKHC"
      },
      "source": [
        "#### Visualisation"
      ]
    },
    {
      "cell_type": "code",
      "metadata": {
        "id": "jw7_uKiehKHD"
      },
      "source": [
        "plt.figure(figsize=(12,7))\n",
        "plt.bar([x[0] for x in topPositiveWord],height=[x[1] for x in topPositiveWord])\n",
        "plt.legend([\"Positive Features Importance\"])\n",
        "plt.xticks(rotation = 60)\n",
        "plt.show()"
      ],
      "execution_count": null,
      "outputs": []
    },
    {
      "cell_type": "code",
      "metadata": {
        "id": "VdXnHOvMhKHI"
      },
      "source": [
        "plt.figure(figsize=(12,7))\n",
        "plt.bar([x[0] for x in topNegativeWord],height=[x[1] for x in topNegativeWord],color='black')\n",
        "plt.legend([\"Negative Features Importance\"])\n",
        "plt.xticks(rotation = 60)\n",
        "plt.show()"
      ],
      "execution_count": null,
      "outputs": []
    },
    {
      "cell_type": "code",
      "metadata": {
        "id": "fpek6yoahKHR"
      },
      "source": [
        "plt.figure(figsize=(12,7))\n",
        "plt.bar([x[0] for x in topNeutralWord],height=[x[1] for x in topNeutralWord],color='gray')\n",
        "plt.legend([\"Neutral Features Importance\"])\n",
        "plt.xticks(rotation = 60)\n",
        "plt.show()"
      ],
      "execution_count": null,
      "outputs": []
    },
    {
      "cell_type": "code",
      "metadata": {
        "id": "xPl_iHEkhKHX"
      },
      "source": [
        "from matplotlib import pyplot as plt \n",
        "\n",
        "customPalette = ['#630C3A', '#39C8C6', '#D3500C', '#FFB139']\n",
        "\n",
        "#create a new figure and set the x and y limits\n",
        "fig, axes = plt.subplots(figsize=(10,10))\n",
        "axes.set_xlim(0.5,5.5)\n",
        "axes.set_ylim(-0.5,5.5)\n",
        "\n",
        "#loop through labels and plot each cluster\n",
        "for i,h in enumerate(topPositiveWord):\n",
        "    xx = plt.annotate(h[0], \n",
        "                    (h[1], 1+(i/6)),\n",
        "                     horizontalalignment='center',\n",
        "                     verticalalignment='center',\n",
        "                     size=22,\n",
        "                     color=customPalette[1])\n",
        "    \n",
        "for i,h in enumerate(topNegativeWord):\n",
        "    xy = plt.annotate(h[0], \n",
        "                    (h[1]+3, 2+(i/6)),\n",
        "                     horizontalalignment='center',\n",
        "                     verticalalignment='center',\n",
        "                     size=22,\n",
        "                     color=customPalette[2])\n",
        "    \n",
        "for i,h in enumerate(topNeutralWord):\n",
        "    xz = plt.annotate(h[0], \n",
        "                    (h[1]+1.5, (i/6)),\n",
        "                     horizontalalignment='center',\n",
        "                     verticalalignment='center',\n",
        "                     size=22,\n",
        "                     color=customPalette[0])\n",
        "    \n"
      ],
      "execution_count": null,
      "outputs": []
    },
    {
      "cell_type": "code",
      "metadata": {
        "id": "cQYmFfq1hKHd"
      },
      "source": [
        ""
      ],
      "execution_count": null,
      "outputs": []
    },
    {
      "cell_type": "code",
      "metadata": {
        "id": "zOSDckNChKHn"
      },
      "source": [
        ""
      ],
      "execution_count": null,
      "outputs": []
    },
    {
      "cell_type": "code",
      "metadata": {
        "id": "4FjFg2MrhKHz"
      },
      "source": [
        ""
      ],
      "execution_count": null,
      "outputs": []
    },
    {
      "cell_type": "markdown",
      "metadata": {
        "id": "mBjYhLA2hKH5"
      },
      "source": [
        "### Transfer Learning"
      ]
    },
    {
      "cell_type": "code",
      "metadata": {
        "id": "YCraFZjshKH7"
      },
      "source": [
        "test.show(5)"
      ],
      "execution_count": null,
      "outputs": []
    },
    {
      "cell_type": "code",
      "metadata": {
        "id": "DjFVOW37hKIE"
      },
      "source": [
        "test.select(\"deflate_sentiment\",\"text\",\"deflategate_yn:confidence\").show(5)"
      ],
      "execution_count": null,
      "outputs": []
    },
    {
      "cell_type": "code",
      "metadata": {
        "id": "_eQ2kSwthKIJ"
      },
      "source": [
        "sentiment = [\"slightly positive\",\"negative\", \"slighly negative\",\"neutral\",\"positive\"]\n",
        "test.groupBy(\"deflate_sentiment\").count().show(100)"
      ],
      "execution_count": null,
      "outputs": []
    },
    {
      "cell_type": "code",
      "metadata": {
        "id": "KOcKAoDzhKIR"
      },
      "source": [
        "df3 = test[test.deflate_sentiment.isin([\"slightly positive\",\"negative\", \"slighly negative\",\"neutral\",\"positive\"]) == True]\n"
      ],
      "execution_count": null,
      "outputs": []
    },
    {
      "cell_type": "code",
      "metadata": {
        "id": "_-lPWCoMhKIX"
      },
      "source": [
        "df3.groupBy(\"deflate_sentiment\").count().show()"
      ],
      "execution_count": null,
      "outputs": []
    },
    {
      "cell_type": "code",
      "metadata": {
        "id": "U1mfXCxZhKIq"
      },
      "source": [
        "df3 = df3.withColumn(\"deflate_sentiment\",when( (col(\"deflate_sentiment\") == \"negative\") | (col(\"deflate_sentiment\") == \"slighly negative\"), -1)\\\n",
        "                     .when((col(\"deflate_sentiment\") == \"positive\") | (col(\"deflate_sentiment\") == \"slighly positive\"),1)\\\n",
        "                     .otherwise(0))\n"
      ],
      "execution_count": null,
      "outputs": []
    },
    {
      "cell_type": "code",
      "metadata": {
        "id": "03HpAv8ghKIy"
      },
      "source": [
        "df3.groupBy(\"deflate_sentiment\").count().show()"
      ],
      "execution_count": null,
      "outputs": []
    },
    {
      "cell_type": "code",
      "metadata": {
        "id": "mMtkvSY6hKJC"
      },
      "source": [
        "df3  = df3.select(\"deflate_sentiment\",\"text\",\"deflategate_yn:confidence\")\n",
        "df3 = df3.withColumnRenamed(\"deflate_sentiment\", \"Vader Polarity Score\")\\\n",
        "       .withColumnRenamed(\"text\", \"Twitter Text Raw\")"
      ],
      "execution_count": null,
      "outputs": []
    },
    {
      "cell_type": "code",
      "metadata": {
        "id": "PY1e_ZnZhKJJ"
      },
      "source": [
        "df3.show(5)"
      ],
      "execution_count": null,
      "outputs": []
    },
    {
      "cell_type": "markdown",
      "metadata": {
        "id": "rEGRSg3dhKJO"
      },
      "source": [
        "#### Feature Engineering"
      ]
    },
    {
      "cell_type": "markdown",
      "metadata": {
        "id": "W-ipV-iQhKJO"
      },
      "source": [
        "On avait déjà developpé une pipeline de transformation en Features sur le jeu d'entrainement.\n",
        "\n",
        "Ici, on réutilise cette pipeline pour transformé notre Dataframe de Test"
      ]
    },
    {
      "cell_type": "code",
      "metadata": {
        "id": "_YBuj5WghKJP"
      },
      "source": [
        "from pyspark.ml import Pipeline\n",
        "\n",
        "datasetTest = pipelineFit.transform(df3)"
      ],
      "execution_count": null,
      "outputs": []
    },
    {
      "cell_type": "code",
      "metadata": {
        "id": "kzQtDMcmhKJV"
      },
      "source": [
        "testPredictions = cvModel.transform(datasetTest)\n",
        "\n",
        "evaluatorTest = MulticlassClassificationEvaluator(predictionCol=\"prediction\",labelCol=\"label\",metricName=\"f1\")\n",
        "evaluatorTest.evaluate(testPredictions)"
      ],
      "execution_count": null,
      "outputs": []
    },
    {
      "cell_type": "code",
      "metadata": {
        "id": "oOzpXQc4hKJZ"
      },
      "source": [
        "testPredictions.show(10)"
      ],
      "execution_count": null,
      "outputs": []
    },
    {
      "cell_type": "markdown",
      "metadata": {
        "id": "Refe2l8BhKJe"
      },
      "source": [
        "#### Confusion Matrix"
      ]
    },
    {
      "cell_type": "code",
      "metadata": {
        "id": "Ai4aTB1XhKJf"
      },
      "source": [
        "from pyspark.mllib.evaluation import MulticlassMetrics\n",
        "predictionAndLabel = testPredictions.rdd.map(lambda x: (x.prediction,x.label))\n",
        "metrics = MulticlassMetrics(predictionAndLabel)\n",
        "\n",
        "# Overall statistics\n",
        "precision = metrics.precision()\n",
        "recall = metrics.recall()\n",
        "f1Score = metrics.fMeasure()\n",
        "print(\"Summary Stats\")\n",
        "print(\"Precision = %s\" % precision)\n",
        "print(\"Recall = %s\" % recall)\n",
        "print(\"F1 Score = %s\" % f1Score)\n"
      ],
      "execution_count": null,
      "outputs": []
    },
    {
      "cell_type": "markdown",
      "metadata": {
        "id": "OKB3sO2xhKJm"
      },
      "source": [
        "### Approche bayésienne"
      ]
    },
    {
      "cell_type": "code",
      "metadata": {
        "id": "OvCEwqLdhKJn"
      },
      "source": [
        "from pyspark.ml.classification import NaiveBayes\n",
        "\n",
        "nb = NaiveBayes(smoothing=1)\n",
        "modelBayesien = nb.fit(trainingData)\n",
        "predictionsBayesienne = modelBayesien.transform(testData)\n",
        "predictionsBayesienne.filter(predictionsBayesienne['prediction'] == 1) \\\n",
        "    .select(\"Vader Polarity Score\",\"probability\",\"label\",\"prediction\") \\\n",
        "    .orderBy(\"probability\", ascending=False) \\\n",
        "    .show(n = 10, truncate = 30)"
      ],
      "execution_count": null,
      "outputs": []
    },
    {
      "cell_type": "code",
      "metadata": {
        "id": "SJmLRyS2hKJt"
      },
      "source": [
        "evaluatorcv = MulticlassClassificationEvaluator(labelCol=\"label\", predictionCol=\"prediction\", metricName=\"f1\")\n",
        "evaluatorcv.evaluate(predictionsBayesienne)"
      ],
      "execution_count": null,
      "outputs": []
    },
    {
      "cell_type": "code",
      "metadata": {
        "id": "WGe7KQZPhKJ1"
      },
      "source": [
        "testPredictionsBay = modelBayesien.transform(datasetTest)\n",
        "\n",
        "evaluatorTest = MulticlassClassificationEvaluator(predictionCol=\"prediction\",labelCol=\"label\",metricName=\"f1\")\n",
        "evaluatorTest.evaluate(testPredictionsBay)"
      ],
      "execution_count": null,
      "outputs": []
    },
    {
      "cell_type": "code",
      "metadata": {
        "id": "NylN5pp-hKJ5"
      },
      "source": [
        ""
      ],
      "execution_count": null,
      "outputs": []
    },
    {
      "cell_type": "markdown",
      "metadata": {
        "id": "l57JyebfhKJ_"
      },
      "source": [
        "### Streaming block"
      ]
    },
    {
      "cell_type": "code",
      "metadata": {
        "id": "5fCN7OnJhKKH"
      },
      "source": [
        ""
      ],
      "execution_count": null,
      "outputs": []
    },
    {
      "cell_type": "markdown",
      "metadata": {
        "id": "9vX2trg-hKKM"
      },
      "source": [
        "##### Connexion entre Spark et Kafka "
      ]
    },
    {
      "cell_type": "code",
      "metadata": {
        "id": "L8UMCyjChKKO"
      },
      "source": [
        "# Subscribe to 1 topic\n",
        "df = sqlContext \\\n",
        "  .readStream \\\n",
        "  .format(\"kafka\") \\\n",
        "  .option(\"kafka.bootstrap.servers\", \"localhost:9092\") \\\n",
        "  .option(\"subscribe\", \"Twitter\") \\\n",
        "  .load()\n",
        "df.selectExpr(\"CAST(key AS STRING)\", \"CAST(value AS STRING)\")"
      ],
      "execution_count": null,
      "outputs": []
    },
    {
      "cell_type": "code",
      "metadata": {
        "id": "W2HcIuyNhKKS"
      },
      "source": [
        "import sys\n",
        "from pyspark import SparkContext, SparkConf\n",
        "from pyspark.streaming import StreamingContext\n",
        "from pyspark.streaming.kafka import KafkaUtils\n",
        "from uuid import uuid1\n",
        "\n",
        "streaming_spark_context  = StreamingContext(sc, 5) # 2 second window\n",
        "# Recuperation des tweets present dans le producer Kafka\n",
        "direct_stream = KafkaUtils.createDirectStream(streaming_spark_context, [\"Twitter\"], {\"metadata.broker.list\": \"localhost:9092\"})\n",
        "\n",
        "streaming_spark_context.start()\n",
        "streaming_spark_context.awaitTermination()"
      ],
      "execution_count": null,
      "outputs": []
    },
    {
      "cell_type": "code",
      "metadata": {
        "id": "uLkZejmBhKKX"
      },
      "source": [
        ""
      ],
      "execution_count": null,
      "outputs": []
    },
    {
      "cell_type": "markdown",
      "metadata": {
        "id": "OiERW4ERhKKb"
      },
      "source": [
        "## Topic Modelling"
      ]
    },
    {
      "cell_type": "code",
      "metadata": {
        "id": "GWy6dpdNhKKc"
      },
      "source": [
        "dataset.select(\"features\",\"filtered\").show()"
      ],
      "execution_count": null,
      "outputs": []
    },
    {
      "cell_type": "code",
      "metadata": {
        "id": "ddjrMMMHhKKh"
      },
      "source": [
        ""
      ],
      "execution_count": null,
      "outputs": []
    },
    {
      "cell_type": "markdown",
      "metadata": {
        "id": "XbSfyB7zhKKj"
      },
      "source": [
        "## Train LDA Model"
      ]
    },
    {
      "cell_type": "code",
      "metadata": {
        "id": "J45Nx0-whKKk"
      },
      "source": [
        "#df_training, df_testing = countVectors.randomSplit([0.9, 0.1], 1)\n",
        "#df_training, df_testing = countVectors.randomSplit([1.0, 0.0], 1)\n",
        "from pyspark.ml.clustering import LDA\n",
        "\n",
        "print('Training and testing documents: ', trainingData.count(), testData.count())\n",
        "\n",
        "numTopics = 20 # number of topics\n",
        "\n",
        "lda = LDA(k = numTopics, seed = 1, optimizer=\"online\", optimizeDocConcentration=True,\n",
        "          maxIter = 50, # number of iterations\n",
        "          learningDecay = 0.51, # kappa, learning rate\n",
        "          learningOffset=64., # tau_0, a larger (positive) value downweights early iterations\n",
        "          subsamplingRate = 0.05, # mini batch fraction \n",
        "          )\n",
        "\n",
        "ldaModel = lda.fit(trainingData)\n",
        "#lpt, lp = ldaModel.logPerplexity(df_testing), ldaModel.logPerplexity(df_training)\n",
        "#print(\"Perplexity on testing and training data: \" + str(lp) + ',' + str(lpt))\n",
        "\n",
        "# Print topics and top-weighted terms\n",
        "topics = ldaModel.describeTopics(maxTermsPerTopic=10)\n",
        "vocabArray = pipelineFit.stages[2].vocabulary\n",
        "\n",
        "ListOfIndexToWords = udf(lambda wl: list([vocabArray[w] for w in wl]))\n",
        "FormatNumbers = udf(lambda nl: [\"{:1.4f}\".format(x) for x in nl])\n",
        "\n",
        "topics.select(ListOfIndexToWords(topics.termIndices).alias('words')).show(truncate=False, n=numTopics)\n",
        "topics.select(FormatNumbers(topics.termWeights).alias('weights')).show(truncate=False, n=numTopics)\n"
      ],
      "execution_count": null,
      "outputs": []
    },
    {
      "cell_type": "markdown",
      "metadata": {
        "id": "3qE4oq7khKKt"
      },
      "source": [
        "### Sauvegarde du modele LDA"
      ]
    },
    {
      "cell_type": "code",
      "metadata": {
        "id": "OflcLLXWhKKw"
      },
      "source": [
        "# Save model\n",
        "#print(ldaModel.isDistributed())\n",
        "path = \"./filRougePythonLDA/\"\n",
        "\n",
        "model_number = '1'\n",
        "ldaModel.save(path + 'LDAModel_stem'+ model_number)\n",
        "lda.save(path + 'LDA_'+ model_number)"
      ],
      "execution_count": null,
      "outputs": []
    },
    {
      "cell_type": "markdown",
      "metadata": {
        "id": "vfhOwJXhhKK2"
      },
      "source": [
        "## Top termes et Top Topic"
      ]
    },
    {
      "cell_type": "code",
      "metadata": {
        "id": "CBOJbYyVhKK-"
      },
      "source": [
        "from pyspark.ml.clustering import LocalLDAModel\n",
        "from pyspark.sql.types import ArrayType, StringType, FloatType, Row\n",
        "from pyspark.sql.functions import udf\n",
        "\n",
        "model_number = '1'\n",
        "\n",
        "# load model and display topics and weights\n",
        "path = \"./filRougePythonLDA/\"\n",
        "usedLDAModel = LocalLDAModel.load(\"C:/Users/koffi/filRougePythonLDA/LDAModel_stem1/\")\n",
        "usedCVModel = pipelineFit.stages[2]\n",
        "\n",
        "maxTermsPerTopic = 5\n",
        "\n",
        "# Print the topics, showing the top-weighted terms for each topic.\n",
        "topics = usedLDAModel.describeTopics(maxTermsPerTopic=maxTermsPerTopic)\n",
        "vocabArray = usedCVModel.vocabulary\n",
        "numTopics = topics.count()\n",
        "\n",
        "ListOfIndexToWords = udf(lambda wl: list([vocabArray[w] for w in wl]), ArrayType(StringType()))\n",
        "FormatNumbers = udf(lambda nl: [float(\"{:1.4f}\".format(x)) for x in nl], ArrayType(FloatType()))\n",
        "\n",
        "toptopics = topics.select((topics.topic + 1).alias('topic'),\n",
        "                          ListOfIndexToWords(topics.termIndices).alias('words'),\n",
        "                          FormatNumbers(topics.termWeights).alias('weights'))\n",
        "toptopics.show(truncate=False, n=numTopics)\n",
        "print('Topics:', numTopics, 'Vocabulary:', len(vocabArray))"
      ],
      "execution_count": null,
      "outputs": []
    },
    {
      "cell_type": "markdown",
      "metadata": {
        "id": "2do9xivwhKLN"
      },
      "source": [
        "### Visualisation de la repartion de ses topics au sein de nos documents ( tweets)"
      ]
    },
    {
      "cell_type": "code",
      "metadata": {
        "id": "FOLECjMyhKLO"
      },
      "source": [
        "%matplotlib inline \n",
        "import matplotlib.pyplot as plt\n",
        "import seaborn as sns\n",
        "import numpy as np\n",
        "sns.set_style(\"whitegrid\")\n",
        "\n",
        "countVectors = (usedCVModel\n",
        "                .transform(dataset.select(\"filtered\"))\n",
        "                .select(\"features\"))\n",
        "\n",
        "countTopDocs = (usedLDAModel\n",
        "                .transform(countVectors)\n",
        "                .select(\"topicDistribution\")\n",
        "                .rdd.map(lambda r: Row( nTopTopic = int(np.argmax(r)))).toDF()\n",
        "                .groupBy(\"nTopTopic\").count().sort(\"nTopTopic\"))\n",
        "\n",
        "pdf = countTopDocs.toPandas()\n",
        "#pdfLess = pdf.drop(pdf.index[[1,3,7,8,10,11,14,15]]).reset_index()\n",
        "pdfLess = pdf.reset_index()\n",
        "\n",
        "pdfLess.plot(color = '#44D3A5', legend = False,\n",
        "                           kind = 'bar', use_index = True, y = 'count', grid = False)\n",
        "plt.xlabel('topic')\n",
        "plt.ylabel('counts')\n",
        "\n",
        "plt.show()\n"
      ],
      "execution_count": null,
      "outputs": []
    },
    {
      "cell_type": "markdown",
      "metadata": {
        "id": "TvtWtVtWhKLR"
      },
      "source": [
        "Il est normal que le modèle est énormement de difficultés à prédire correctement les sentiments derrière un tweet sur le jeu de données du basdket.  \n",
        "En effet, on se rend compte que les topics les plus dominants ont des mots clés qui ont très peu de rapport avec ce thème. Ce sont par exemple des mots clés\n",
        "tels que __Wimbledon, US Open, pour le topic 1__ ou encore __benoit Paire topic 15(joueur de tennis français)__, __même Serena Williams ( topic 6 )__"
      ]
    },
    {
      "cell_type": "markdown",
      "metadata": {
        "id": "ovY75zPIhKLS"
      },
      "source": [
        "## WordCloud"
      ]
    },
    {
      "cell_type": "code",
      "metadata": {
        "id": "QC-NAkdohKLT"
      },
      "source": [
        "import matplotlib.pyplot as plt\n",
        "from wordcloud import WordCloud\n",
        "\n",
        "plt.figure()\n",
        "\n",
        "#subplot(r,c) provide the no. of rows and columns\n",
        "f, axarr = plt.subplots(5,4,figsize=(20, 10)) \n",
        "\n",
        "maxTermsPerTopic = 20\n",
        "topics = usedLDAModel.describeTopics(maxTermsPerTopic=maxTermsPerTopic)\n",
        "toptopics = topics.select((topics.topic + 1).alias('topic'),\n",
        "                            ListOfIndexToWords(topics.termIndices).alias('words'),\n",
        "                            FormatNumbers(topics.termWeights).alias('weights'))\n",
        "topic_k = 1 \n",
        "for k in range(1,6) :\n",
        "    for j in range(1,5) :\n",
        "        \n",
        "\n",
        "        words = toptopics.collect()[topic_k-1][1]\n",
        "\n",
        "        frequencies = toptopics.collect()[topic_k-1][2]\n",
        "        #word_freq_dict = sorted(dict(zip(words,frequencies)), reverse=True)\n",
        "        word_freq_dict = dict(zip(words,frequencies))\n",
        "\n",
        "        wordcloud = WordCloud(background_color=\"white\",\n",
        "                              max_font_size=100,relative_scaling=0.5,margin=5,\n",
        "                              random_state=1, stopwords=None).generate_from_frequencies(word_freq_dict)\n",
        "\n",
        "        axarr[k-1,j-1].imshow(wordcloud)\n",
        "        topic_k = topic_k  + 1\n",
        "\n",
        "\n",
        "\n",
        "     \n",
        "    "
      ],
      "execution_count": null,
      "outputs": []
    },
    {
      "cell_type": "code",
      "metadata": {
        "id": "w23M8PHdhKLb"
      },
      "source": [
        ""
      ],
      "execution_count": null,
      "outputs": []
    },
    {
      "cell_type": "code",
      "metadata": {
        "id": "ZnHnEGD8hKLf"
      },
      "source": [
        ""
      ],
      "execution_count": null,
      "outputs": []
    },
    {
      "cell_type": "code",
      "metadata": {
        "id": "Vxr5h6aghKLj"
      },
      "source": [
        "toptopicsPandas = toptopics.toPandas()\n",
        "\n"
      ],
      "execution_count": null,
      "outputs": []
    },
    {
      "cell_type": "code",
      "metadata": {
        "id": "cyIu2ldyhKLo"
      },
      "source": [
        "word_counts['excited']"
      ],
      "execution_count": null,
      "outputs": []
    },
    {
      "cell_type": "code",
      "metadata": {
        "id": "VNWXS03ahKLv"
      },
      "source": [
        "def format_data_to_pyldavis(df_filtered, count_vectorizer, transformed, lda_model):\n",
        "    xxx = df_filtered.select((explode(df_filtered.words)).alias(\"word\")).groupby(\"word\").count()\n",
        "    word_counts = {r['word']:r['count'] for r in xxx.collect()}\n",
        "    word_counts = [word_counts[w] for w in count_vectorizer.vocabulary]\n",
        "\n",
        "\n",
        "    data = {'topic_term_dists': np.array(lda_model.topicsMatrix().toArray()).T, \n",
        "            'doc_topic_dists': np.array([x.toArray() for x in transformed.select([\"topicDistribution\"]).toPandas()['topicDistribution']]),\n",
        "            'doc_lengths': [r[0] for r in df_filtered.select(size(df_filtered.words)).collect()],\n",
        "            'vocab': count_vectorizer.vocabulary,\n",
        "            'term_frequency': word_counts}\n",
        "\n",
        "    return data\n",
        "\n",
        "def filter_bad_docs(data):\n",
        "    bad = 0\n",
        "    doc_topic_dists_filtrado = []\n",
        "    doc_lengths_filtrado = []\n",
        "\n",
        "    for x,y in zip(data['doc_topic_dists'], data['doc_lengths']):\n",
        "        if np.sum(x)==0:\n",
        "            bad+=1\n",
        "        elif np.sum(x) != 1:\n",
        "            bad+=1\n",
        "        elif np.isnan(x).any():\n",
        "            bad+=1\n",
        "        else:\n",
        "            doc_topic_dists_filtrado.append(x)\n",
        "            doc_lengths_filtrado.append(y)\n",
        "\n",
        "    data['doc_topic_dists'] = doc_topic_dists_filtrado\n",
        "    data['doc_lengths'] = doc_lengths_filtrado"
      ],
      "execution_count": null,
      "outputs": []
    },
    {
      "cell_type": "code",
      "metadata": {
        "id": "14ltceiZhKL0"
      },
      "source": [
        "import pyLDAvis.gensim\n",
        "from pyspark.sql.functions import udf, col, size, explode, regexp_replace, trim, lower, lit\n",
        "\n",
        "pyLDAvis.enable_notebook()\n",
        "\n",
        "# FORMAT DATA AND PASS IT TO PYLDAVIS\n",
        "transformed = usedLDAModel.transform(trainingData)\n",
        "data = format_data_to_pyldavis(dataset, usedCVModel, transformed, usedLDAModel)\n",
        "filter_bad_docs(data) # this is, because for some reason some docs apears with 0 value in all the vectors, or the norm is not 1, so I filter those docs.\n",
        "py_lda_prepared_data = pyLDAvis.prepare(**data)\n",
        "pyLDAvis.display(py_lda_prepared_data)"
      ],
      "execution_count": null,
      "outputs": []
    },
    {
      "cell_type": "code",
      "metadata": {
        "id": "DW24wNBFhKL5"
      },
      "source": [
        "toptopics.show()"
      ],
      "execution_count": null,
      "outputs": []
    },
    {
      "cell_type": "code",
      "metadata": {
        "id": "olkmiB0khKMD"
      },
      "source": [
        ""
      ],
      "execution_count": null,
      "outputs": []
    }
  ]
}